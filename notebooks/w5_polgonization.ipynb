{
 "metadata": {
  "language_info": {
   "codemirror_mode": {
    "name": "ipython",
    "version": 3
   },
   "file_extension": ".py",
   "mimetype": "text/x-python",
   "name": "python",
   "nbconvert_exporter": "python",
   "pygments_lexer": "ipython3",
   "version": "3.8.5-final"
  },
  "orig_nbformat": 2,
  "kernelspec": {
   "name": "python3",
   "display_name": "Python 3.8.5 64-bit ('sc_workshops': conda)",
   "metadata": {
    "interpreter": {
     "hash": "787ea478c22349cf73d867deb0a19fc58e75e9742a9aed6f48d06cc412ad6e3b"
    }
   }
  }
 },
 "nbformat": 4,
 "nbformat_minor": 2,
 "cells": [
  {
   "source": [
    "# Polygonization\n",
    "\n",
    "In this workshop we will learn how to convert our topological model of the building into a geometric model."
   ],
   "cell_type": "markdown",
   "metadata": {}
  },
  {
   "cell_type": "code",
   "execution_count": 44,
   "metadata": {},
   "outputs": [],
   "source": [
    "import topogenesis as tg\n",
    "import numpy as np \n",
    "import pyvista as pv\n",
    "import os\n",
    "import copy"
   ]
  },
  {
   "cell_type": "code",
   "execution_count": 2,
   "metadata": {},
   "outputs": [
    {
     "output_type": "stream",
     "name": "stdout",
     "text": [
      "[  1   2   4   8  16  32  64 128]\n"
     ]
    }
   ],
   "source": [
    "two = 2 ** np.arange(8)\n",
    "print(two)"
   ]
  },
  {
   "cell_type": "code",
   "execution_count": 4,
   "metadata": {},
   "outputs": [],
   "source": [
    "l_bis = []\n",
    "for i in range(2**8):\n",
    "    bi = np.array(list(np.binary_repr(i, width=8))).astype(int).reshape((2,2,2))\n",
    "    l_bi = tg.to_lattice(bi, [0,0,0])\n",
    "    l_bis.append(l_bi)"
   ]
  },
  {
   "cell_type": "code",
   "execution_count": 49,
   "metadata": {},
   "outputs": [
    {
     "output_type": "stream",
     "name": "stdout",
     "text": [
      "[stencil([[[0, 0, 0],\n          [0, 0, 0],\n          [0, 0, 0]],\n\n         [[0, 0, 0],\n          [0, 1, 0],\n          [0, 0, 0]],\n\n         [[0, 0, 0],\n          [0, 0, 0],\n          [0, 0, 0]]]), stencil([[[0, 0, 0],\n          [0, 1, 0],\n          [0, 0, 0]],\n\n         [[0, 1, 0],\n          [1, 0, 1],\n          [0, 1, 0]],\n\n         [[0, 0, 0],\n          [0, 1, 0],\n          [0, 0, 0]]])]\n"
     ]
    }
   ],
   "source": [
    "#  creating stencils\n",
    "so_base = tg.create_stencil(\"von_neumann\", 0, 1)\n",
    "so_base.function = tg.sfunc.sum\n",
    "sx_base = copy.deepcopy(so_base)\n",
    "sx_base.set_index((0,0,0), 0)\n",
    "sx_base.set_index((1,0,0), 1)\n",
    "\n",
    "# setting separate direction\n",
    "corner_state = dict(\n",
    "    OO = so_base,\n",
    "    XP = sx_base,\n",
    "    XN = np.flip(sx_base, 0),\n",
    "    YP = np.transpose(sx_base, (1,0,2)),\n",
    "    YN = np.transpose(np.flip(sx_base, 0), (1,0,2)),\n",
    "    ZP = np.transpose(sx_base, (2,1,0)),\n",
    "    ZN = np.transpose(np.flip(sx_base, 0), (2,1,0))\n",
    ")\n",
    "# setting paired directions\n",
    "corner_state[\"XX\"] = corner_state[\"XN\"] + corner_state[\"XP\"]\n",
    "corner_state[\"YY\"] = corner_state[\"YN\"] + corner_state[\"YP\"]\n",
    "corner_state[\"ZZ\"] = corner_state[\"ZN\"] + corner_state[\"ZP\"]\n",
    "\n",
    "# dummy symmetry string \n",
    "sym_str = [[\"OO\"], [\"XX\", \"YY\", \"ZZ\"]]\n",
    "\n",
    "stencils = []\n",
    "for sym in sym_str:\n",
    "    sym_stencil = copy.deepcopy(corner_state[sym[0]])\n",
    "    for key in sym[1:]:\n",
    "        sym_stencil += corner_state[key]\n",
    "    stencils.append(sym_stencil)\n",
    "    \n",
    "print(stencils)\n",
    "# print(corner_state[\"XX\"])\n",
    "# neighbour stencil\n",
    "s_xyz = tg.create_stencil(\"von_neumann\", 1, 1)\n",
    "s_xyz.set_index((0,0,0), 0)\n",
    "s_xyz.function = tg.sfunc.sum\n",
    "\n",
    "# center stencil\n",
    "s_o = tg.create_stencil(\"von_neumann\", 0, 1)\n",
    "s_o.function = tg.sfunc.sum"
   ]
  },
  {
   "cell_type": "code",
   "execution_count": 25,
   "metadata": {},
   "outputs": [],
   "source": [
    "indices_3d = np.array(np.unravel_index(np.arange(8), (2,2,2))).T\n",
    "\n",
    "c = 0\n",
    "results = []\n",
    "for l in l_bis:\n",
    "    # retrieve corner values for each stencil (flattened)\n",
    "    result_o = l.apply_stencil(s_o).flatten()\n",
    "    result_xyz = l.apply_stencil(s_xyz).flatten()\n",
    "\n",
    "    # concatenate results into columns\n",
    "    result = np.c_[result_o, result_xyz]\n",
    "\n",
    "    results.append(result)\n",
    "\n",
    "# stack results vertically\n",
    "res_stacked = np.vstack(results)\n",
    "\n",
    "# find the uniqe arangements of corners\n",
    "uniq_corner_arang = np.unique(res_stacked, axis = 0)"
   ]
  },
  {
   "cell_type": "code",
   "execution_count": 27,
   "metadata": {},
   "outputs": [],
   "source": [
    "# generate mini-lattices to represent the geometrical equivalent of unique corner arrangments\n",
    "base_zero = np.zeros((2,2,2), dtype=np.int8)\n",
    "\n",
    "corner_lattices = []\n",
    "# for each unique arangement, create a representation\n",
    "for uca in uniq_corner_arang:\n",
    "    corner_arang = np.copy(base_zero)\n",
    "\n",
    "    # set the corner\n",
    "    corner_arang[0,0,0] = uca[0] == 1\n",
    "\n",
    "    # set sides\n",
    "    corner_arang[1,0,0] = uca[1] > 0\n",
    "    corner_arang[0,1,0] = uca[1] > 1\n",
    "    corner_arang[0,0,1] = uca[1] > 2\n",
    "\n",
    "    # convert to lattice\n",
    "    corner_lat = tg.to_lattice(corner_arang, np.zeros(3))\n",
    "    corner_lattices.append(corner_lat)\n",
    "    "
   ]
  },
  {
   "cell_type": "code",
   "execution_count": 31,
   "metadata": {},
   "outputs": [
    {
     "output_type": "stream",
     "name": "stderr",
     "text": [
      "WARNING:root:Encountered issue in callback (most recent call last):\n  File \"<ipython-input-31-88cad96a8dd7>\", line 32, in create_mesh\n    p.add_mesh(threshed, name='sphere', show_edges=True, opacity=1.0, show_scalar_bar=False)\n  File \"/Users/shervinazadi/opt/miniconda3/envs/sc_workshops/lib/python3.8/site-packages/pyvista/plotting/plotting.py\", line 1475, in add_mesh\n    raise ValueError('Empty meshes cannot be plotted. Input mesh has zero points.')\nValueError: Empty meshes cannot be plotted. Input mesh has zero points.\n"
     ]
    },
    {
     "output_type": "display_data",
     "data": {
      "text/plain": "ViewInteractiveWidget(height=768, layout=Layout(height='auto', width='100%'), width=1024)",
      "application/vnd.jupyter.widget-view+json": {
       "version_major": 2,
       "version_minor": 0,
       "model_id": "33098e9e252148e08970bb23474f731d"
      }
     },
     "metadata": {}
    },
    {
     "output_type": "execute_result",
     "data": {
      "text/plain": [
       "[(4.363703305156274, 4.363703305156274, 4.363703305156274),\n",
       " (0.5, 0.5, 0.5),\n",
       " (0.0, 0.0, 1.0)]"
      ]
     },
     "metadata": {},
     "execution_count": 31
    }
   ],
   "source": [
    "p = pv.Plotter(notebook=True)\n",
    "\n",
    "base_lattice = corner_lattices[0]\n",
    "\n",
    "# Set the grid dimensions: shape + 1 because we want to inject our values on the CELL data\n",
    "grid = pv.UniformGrid()\n",
    "grid.dimensions = np.array(base_lattice.shape) + 1\n",
    "# The bottom left corner of the data set\n",
    "grid.origin = base_lattice.minbound - base_lattice.unit * 0.5\n",
    "# These are the cell sizes along each axis\n",
    "grid.spacing = base_lattice.unit \n",
    "\n",
    "# adding the boundingbox wireframe\n",
    "p.add_mesh(grid.outline(), color=\"grey\", label=\"Domain\")\n",
    "\n",
    "# # adding the avilability lattice\n",
    "# init_avail_lattice.fast_vis(p)\n",
    "\n",
    "# adding axes\n",
    "p.add_axes()\n",
    "p.show_bounds(grid=\"back\", location=\"back\", color=\"#aaaaaa\")\n",
    "\n",
    "def create_mesh(value):\n",
    "    f = int(value)\n",
    "    lattice = corner_lattices[f]\n",
    "\n",
    "    # Add the data values to the cell data\n",
    "    grid.cell_arrays[\"filled\"] = lattice.flatten(order=\"F\").astype(int)  # Flatten the array!\n",
    "    # filtering the voxels\n",
    "    threshed = grid.threshold([.9, 1.1])\n",
    "    # adding the voxels\n",
    "    p.add_mesh(threshed, name='sphere', show_edges=True, opacity=1.0, show_scalar_bar=False)\n",
    "\n",
    "    return\n",
    "\n",
    "p.add_slider_widget(create_mesh, [0, len(corner_lattices)-1], title='Arrangements', value=0, event_type=\"always\", style=\"classic\", pointa=(0.1, 0.1), pointb=(0.9, 0.1))\n",
    "p.show(use_ipyvtk=True)"
   ]
  },
  {
   "source": [
    "### Credits"
   ],
   "cell_type": "markdown",
   "metadata": {}
  },
  {
   "cell_type": "code",
   "execution_count": null,
   "metadata": {},
   "outputs": [],
   "source": [
    "__aut__author__ = \"Shervin Azadi\"\n",
    "__license__ = \"MIT\"\n",
    "__version__ = \"1.0\"\n",
    "__url__ = \"https://github.com/shervinazadi/spatial_computing_workshops\"\n",
    "__summary__ = \"Spatial Computing Design Studio Workshop on Polygonization\""
   ]
  }
 ]
}