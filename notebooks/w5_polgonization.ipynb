{
 "metadata": {
  "language_info": {
   "codemirror_mode": {
    "name": "ipython",
    "version": 3
   },
   "file_extension": ".py",
   "mimetype": "text/x-python",
   "name": "python",
   "nbconvert_exporter": "python",
   "pygments_lexer": "ipython3",
   "version": "3.8.5-final"
  },
  "orig_nbformat": 2,
  "kernelspec": {
   "name": "python3",
   "display_name": "Python 3.8.5 64-bit ('sc_workshops': conda)",
   "metadata": {
    "interpreter": {
     "hash": "787ea478c22349cf73d867deb0a19fc58e75e9742a9aed6f48d06cc412ad6e3b"
    }
   }
  }
 },
 "nbformat": 4,
 "nbformat_minor": 2,
 "cells": [
  {
   "source": [
    "# Polygonization\n",
    "\n",
    "In this workshop we will learn how to convert our topological model of the building into a geometric model."
   ],
   "cell_type": "markdown",
   "metadata": {}
  },
  {
   "cell_type": "code",
   "execution_count": 13,
   "metadata": {},
   "outputs": [],
   "source": [
    "import topogenesis as tg\n",
    "import numpy as np \n",
    "import pyvista as pv\n",
    "import os\n",
    "import copy\n",
    "import trimesh as tm\n",
    "import pandas as pd"
   ]
  },
  {
   "cell_type": "code",
   "execution_count": 14,
   "metadata": {},
   "outputs": [],
   "source": [
    "# create all possible configurations\n",
    "l_bis = []\n",
    "for i in range(2**8):\n",
    "    bi = np.array(list(np.binary_repr(i, width=8))).astype(int).reshape((2,2,2))\n",
    "    l_bi = tg.to_lattice(bi, [0,0,0])\n",
    "    l_bis.append(l_bi)"
   ]
  },
  {
   "cell_type": "code",
   "execution_count": 40,
   "metadata": {},
   "outputs": [],
   "source": [
    "#  creating stencils\n",
    "so_base = tg.create_stencil(\"von_neumann\", 0, 1)\n",
    "sx_base = copy.deepcopy(so_base)\n",
    "sx_base.set_index((0,0,0), 0)\n",
    "sx_base.set_index((1,0,0), 1)\n",
    "\n",
    "# setting separate direction\n",
    "corner_state = dict(\n",
    "    OO = so_base,\n",
    "    XP = sx_base,\n",
    "    XN = np.flip(sx_base, 0),\n",
    "    YP = np.transpose(sx_base, (1,0,2)),\n",
    "    YN = np.transpose(np.flip(sx_base, 0), (1,0,2)),\n",
    "    ZP = np.transpose(sx_base, (2,1,0)),\n",
    "    ZN = np.transpose(np.flip(sx_base, 0), (2,1,0))\n",
    ")\n",
    "\n",
    "for key, value in corner_state.items():\n",
    "    value.function = tg.sfunc.sum\n",
    "    corner_state[key] = value\n",
    "\n",
    "# setting paired directions\n",
    "corner_state[\"XX\"] = corner_state[\"XN\"] + corner_state[\"XP\"]\n",
    "corner_state[\"YY\"] = corner_state[\"YN\"] + corner_state[\"YP\"]\n",
    "corner_state[\"ZZ\"] = corner_state[\"ZN\"] + corner_state[\"ZP\"]\n",
    "\n",
    "# dummy symmetry string \n",
    "# sym_str = [[\"OO\"], [\"XP\"], [\"XN\"], [\"YP\"], [\"YN\"], [\"ZP\"], [\"ZN\"]]\n",
    "# sym_str = [[\"OO\"], [\"XX\"], [\"YP\"], [\"YN\"], [\"ZP\"], [\"ZN\"]]\n",
    "sym_str = [[\"OO\"], [\"XX\", \"YY\"], [\"ZP\"], [\"ZN\"]]\n",
    "# sym_str = [[\"OO\"], [\"XX\", \"YY\"], [\"ZZ\"]]\n",
    "# sym_str = [[\"OO\"], [\"XX\", \"YY\", \"ZZ\"]]\n",
    "# sym_str = [[\"OO\"]]\n",
    "\n",
    "stencils = []\n",
    "\n",
    "for i, sym in enumerate(sym_str):\n",
    "    # init the symmetry stencil with the first item\n",
    "    sym_stencil = copy.deepcopy(corner_state[sym[0]])\n",
    "    # iteratively add the rest of the symmetry stencils together\n",
    "    for key in sym[1:]:\n",
    "        sym_stencil += corner_state[key]\n",
    "    # append\n",
    "    stencils.append(sym_stencil)\n",
    "    # compute the sum of all stencils\n",
    "    if i == 0:\n",
    "        stencil_sum = copy.deepcopy(sym_stencil)\n",
    "    else:\n",
    "        stencil_sum += sym_stencil\n",
    "\n",
    "# check if there is any neighbours that are not included\n",
    "stencil_rest = tg.create_stencil(\"von_neumann\", 1, 1) - stencil_sum\n",
    "\n",
    "# print(np.zeros((3,3,3)).sum())\n",
    "if (np.array(stencil_rest).sum()):\n",
    "    stencil_rest.function = tg.sfunc.sum\n",
    "    stencils.append(stencil_rest)\n",
    "\n",
    "# add the sum function to all stencils\n",
    "for s in stencils:\n",
    "    s.function = tg.sfunc.sum"
   ]
  },
  {
   "cell_type": "code",
   "execution_count": 16,
   "metadata": {},
   "outputs": [
    {
     "output_type": "stream",
     "name": "stdout",
     "text": [
      "[[0 0 0 0]\n [0 0 0 1]\n [0 0 1 0]\n [0 1 0 0]\n [0 1 0 1]\n [0 1 1 0]\n [0 2 0 0]\n [0 2 0 1]\n [0 2 1 0]\n [1 0 0 0]\n [1 0 0 1]\n [1 0 1 0]\n [1 1 0 0]\n [1 1 0 1]\n [1 1 1 0]\n [1 2 0 0]\n [1 2 0 1]\n [1 2 1 0]]\n18\n"
     ]
    }
   ],
   "source": [
    "results = []\n",
    "for l in l_bis:\n",
    "    # apply the stencils in all corners of all possible configurations\n",
    "    r_s = [l.apply_stencil(s).flatten() for s in stencils]\n",
    "\n",
    "    # concatenate results into columns\n",
    "    result = np.c_[tuple(r_s)]\n",
    "\n",
    "    results.append(result)\n",
    "\n",
    "# stack results vertically\n",
    "res_stacked = np.vstack(results)\n",
    "\n",
    "# find the uniqe arangements of corners\n",
    "uniq_corner_arang = np.unique(res_stacked, axis = 0)\n",
    "print(uniq_corner_arang)\n",
    "print(len(uniq_corner_arang))"
   ]
  },
  {
   "cell_type": "code",
   "execution_count": 17,
   "metadata": {},
   "outputs": [
    {
     "output_type": "stream",
     "name": "stdout",
     "text": [
      "[array([[0, 0, 0]]), array([[ 1,  0,  0],\n       [ 0,  1,  0],\n       [ 0, -1,  0],\n       [-1,  0,  0]]), array([[0, 0, 1]]), array([[ 0,  0, -1]])]\n"
     ]
    }
   ],
   "source": [
    "stencil_ind = []\n",
    "for s in stencils:\n",
    "    filled_ind = np.array(np.where(np.array(s)==1)).T\n",
    "    #relocate to corner\n",
    "    filled_ind_reloc = filled_ind - 1\n",
    "    # flip vertically\n",
    "    filled_ind_flpd = np.flip(filled_ind_reloc, 0).astype(int)\n",
    "\n",
    "    stencil_ind.append(filled_ind_flpd)\n",
    "print(stencil_ind)"
   ]
  },
  {
   "cell_type": "code",
   "execution_count": 18,
   "metadata": {},
   "outputs": [],
   "source": [
    "# generate mini-lattices to represent the geometrical equivalent of unique corner arrangments\n",
    "base_zero = np.zeros((2,2,2), dtype=np.int8)\n",
    "\n",
    "corner_neigh_lattices = []\n",
    "corner_loc_lattices = []\n",
    "# for each unique arangement, create a representation\n",
    "for uca in uniq_corner_arang:\n",
    "    corner_arang = np.copy(base_zero)\n",
    "    corner_loc = np.copy(base_zero)\n",
    "    corner_loc[0,0,0] = 1\n",
    "\n",
    "    shift = np.zeros(3)\n",
    "    # for each list of indices of each stencil\n",
    "    for i, s_inds in enumerate(stencil_ind):\n",
    "        # for each index\n",
    "        for j, s_i in enumerate(s_inds):\n",
    "            # check if the sum is big enough to mark this index\n",
    "            if uca[i] > j:\n",
    "                # check if the index is positive\n",
    "                if s_i.sum() >= 0:\n",
    "                    # mark as one\n",
    "                    corner_arang[tuple(s_i)] = 1\n",
    "                # if the index is negative\n",
    "                else:\n",
    "                    # mark as one\n",
    "                    corner_arang[tuple(s_i)] = 1\n",
    "                    # record the index as a shift\n",
    "                    shift += s_i\n",
    "\n",
    "    # roll nwighbourhood and locations\n",
    "    corner_arang = np.roll(corner_arang, tuple(shift.astype(int)), (0,1,2))\n",
    "    corner_loc = np.roll(corner_loc, tuple(shift.astype(int)), (0,1,2))\n",
    "\n",
    "    # convert to lattice\n",
    "    corner_lat = tg.to_lattice(corner_arang, np.zeros(3))\n",
    "    corner_neigh_lattices.append(corner_lat)\n",
    "\n",
    "    corner_loc_lat = tg.to_lattice(corner_loc, np.zeros(3))\n",
    "    corner_loc_lattices.append(corner_loc_lat)"
   ]
  },
  {
   "cell_type": "code",
   "execution_count": 19,
   "metadata": {},
   "outputs": [
    {
     "output_type": "display_data",
     "data": {
      "text/plain": "ViewInteractiveWidget(height=768, layout=Layout(height='auto', width='100%'), width=1024)",
      "application/vnd.jupyter.widget-view+json": {
       "version_major": 2,
       "version_minor": 0,
       "model_id": "e1da9a780b894ca3a3ee68cdcbd1ffa8"
      }
     },
     "metadata": {}
    },
    {
     "output_type": "execute_result",
     "data": {
      "text/plain": [
       "[(4.363703305156274, 4.363703305156274, 4.363703305156274),\n",
       " (0.5, 0.5, 0.5),\n",
       " (0.0, 0.0, 1.0)]"
      ]
     },
     "metadata": {},
     "execution_count": 19
    }
   ],
   "source": [
    "p = pv.Plotter(notebook=True)\n",
    "\n",
    "base_lattice = corner_neigh_lattices[0]\n",
    "\n",
    "# Set the grid dimensions: shape + 1 because we want to inject our values on the CELL data\n",
    "grid = pv.UniformGrid()\n",
    "grid.dimensions = np.array(base_lattice.shape) + 1\n",
    "# The bottom left corner of the data set\n",
    "grid.origin = base_lattice.minbound - base_lattice.unit * 0.5\n",
    "# These are the cell sizes along each axis\n",
    "grid.spacing = base_lattice.unit \n",
    "\n",
    "# adding the boundingbox wireframe\n",
    "p.add_mesh(grid.outline(), color=\"grey\", label=\"Domain\")\n",
    "\n",
    "# # adding the avilability lattice\n",
    "# init_avail_lattice.fast_vis(p)\n",
    "\n",
    "# adding axes\n",
    "p.add_axes()\n",
    "p.show_bounds(grid=\"back\", location=\"back\", color=\"#aaaaaa\")\n",
    "\n",
    "def create_mesh(value):\n",
    "    f = int(value)\n",
    "    lattice = corner_neigh_lattices[f]\n",
    "    loc = corner_loc_lattices[f]\n",
    "\n",
    "    # Add the data values to the cell data\n",
    "    grid.cell_arrays[\"filled\"] = lattice.flatten(order=\"F\").astype(int)  # Flatten the array!\n",
    "    # filtering the voxels\n",
    "    threshed = grid.threshold([.9, 1.1], scalars=\"filled\")\n",
    "    # adding the voxels\n",
    "    p.add_mesh(threshed, name='sphere', show_edges=True, opacity=0.7, show_scalar_bar=False)\n",
    "    \n",
    "    # Add the data values to the cell data\n",
    "    grid.cell_arrays[\"corner\"] = loc.flatten(order=\"F\").astype(int)# Flatten the array!\n",
    "    # filtering the voxels\n",
    "    threshed = grid.threshold([.9, 1.1], scalars=\"corner\")\n",
    "    # adding the voxels\n",
    "    p.add_mesh(threshed, name='sphere2', show_edges=True, opacity=1.0, show_scalar_bar=False, color=\"white\")\n",
    "\n",
    "    return\n",
    "\n",
    "p.add_slider_widget(create_mesh, [1, len(corner_neigh_lattices)], title='Arrangements', value=1, event_type=\"always\", style=\"classic\", pointa=(0.1, 0.1), pointb=(0.9, 0.1))\n",
    "p.show(use_ipyvtk=True)"
   ]
  },
  {
   "cell_type": "code",
   "execution_count": 20,
   "metadata": {},
   "outputs": [],
   "source": [
    "def to_csv(lattice, filepath: str):\n",
    "        \"\"\"This method saves the lattice to a csv file\n",
    "\n",
    "        Args:\n",
    "            filepath: path to the csv file\n",
    "        \"\"\"\n",
    "        # volume to panda dataframe\n",
    "        vol_df = lattice.to_panadas()\n",
    "\n",
    "        # specifying metadata and transposing it\n",
    "        metadata = pd.DataFrame({\n",
    "            'minbound': lattice.minbound,\n",
    "            'shape': np.array(lattice.shape),\n",
    "            'unit': lattice.unit,\n",
    "        })\n",
    "\n",
    "        with open(filepath, 'w') as df_out:\n",
    "\n",
    "            metadata.to_csv(df_out, index=False,header=True, float_format='%g', line_terminator='\\n')\n",
    "\n",
    "            df_out.write('\\n')\n",
    "\n",
    "            vol_df.to_csv(df_out, index=False, float_format='%g', line_terminator='\\n')"
   ]
  },
  {
   "cell_type": "code",
   "execution_count": 21,
   "metadata": {},
   "outputs": [],
   "source": [
    "interior_zero = tg.to_lattice(np.zeros((2,2,2), dtype=np.int8), [0,0,0])\n",
    "border_pad = np.pad(interior_zero, (1,1), 'constant', constant_values=(1))\n",
    "base_zero = tg.to_lattice(np.zeros((4,4,4), dtype=np.int8), [0,0,0])\n",
    "s = tg.create_stencil(\"von_neumann\", 1,1)\n",
    "s.set_index([0,0,0], 0)\n",
    "\n",
    "for i, core, neigh in zip(range(len(corner_loc_lattices)), corner_loc_lattices, corner_neigh_lattices):\n",
    "    # construct saving paths\n",
    "    core_path = os.path.relpath('../data/bmc_templates/core_' + f'{i:02}' + '.csv')\n",
    "    neigh_path = os.path.relpath('../data/bmc_templates/neighs_' + f'{i:02}' + '.csv')\n",
    "    e_neigh_path = os.path.relpath('../data/bmc_templates/e_neighs_' + f'{i:02}' + '.csv')\n",
    "\n",
    "    # aggregate neighbours\n",
    "    neigh = tg.to_lattice(np.pad(neigh, (1,1), 'constant', constant_values=(0)), [0,0,0])\n",
    "\n",
    "    # construct the padded core\n",
    "    core_pad = tg.to_lattice(np.pad(core, (1,1), 'constant', constant_values=(0)), [0,0,0])\n",
    "    # extract the outer neighbours of the core\n",
    "    core_3ind = np.array(np.where(core_pad==1)).flatten()\n",
    "    pals = base_zero.find_neighbours_masked(s, loc=core_3ind)\n",
    "    extra_neighs = np.copy(base_zero).flatten()\n",
    "    # set the extra neighbours as the current state of the core\n",
    "    extra_neighs[pals] = neigh[tuple(core_3ind)]\n",
    "    extra_neighs = tg.to_lattice(extra_neighs.reshape(4,4,4), [0,0,0])\n",
    "    # remove interior pals\n",
    "    extra_neighs *= border_pad\n",
    "\n",
    "\n",
    "    # save to csv\n",
    "    to_csv(core_pad, core_path)\n",
    "    to_csv(neigh, neigh_path)\n",
    "    to_csv(extra_neighs, e_neigh_path)\n"
   ]
  },
  {
   "cell_type": "code",
   "execution_count": 22,
   "metadata": {},
   "outputs": [],
   "source": [
    "meshes = []\n",
    "for c in range(len(corner_loc_lattices)):\n",
    "    corner_mesh_path = core_path = os.path.relpath('../data/bmc_templates/bmc_subtiles/t_' + f'{c:02}' + '.obj')\n",
    "    corner_mesh = tm.load(corner_mesh_path)\n",
    "    meshes.append(corner_mesh)"
   ]
  },
  {
   "cell_type": "code",
   "execution_count": 23,
   "metadata": {},
   "outputs": [
    {
     "output_type": "execute_result",
     "data": {
      "text/plain": [
       "trimesh.base.Trimesh"
      ]
     },
     "metadata": {},
     "execution_count": 23
    }
   ],
   "source": [
    "type(meshes[10])"
   ]
  },
  {
   "cell_type": "code",
   "execution_count": 24,
   "metadata": {},
   "outputs": [
    {
     "output_type": "stream",
     "name": "stdout",
     "text": [
      "[[ 0  0  0 ...  0  0  0]\n [ 0  0  0 ...  3  2  9]\n [ 0  0  3 ...  0  9  1]\n ...\n [17 16 14 ... 16  8 15]\n [17 16 17 ... 13 15  7]\n [17 16 17 ... 16 17 16]]\n"
     ]
    }
   ],
   "source": [
    "tile_corner_inds = []\n",
    "for result in results:\n",
    "    # find each corner in the list of unique corner arrangements\n",
    "    corner_ind = np.array([np.where((r == uniq_corner_arang).all(1)) for r in result]).flatten()\n",
    "    tile_corner_inds.append(corner_ind)\n",
    "\n",
    "tile_corner_inds = np.array(tile_corner_inds)\n",
    "print(tile_corner_inds)"
   ]
  },
  {
   "cell_type": "code",
   "execution_count": 55,
   "metadata": {
    "tags": []
   },
   "outputs": [
    {
     "output_type": "stream",
     "name": "stdout",
     "text": [
      "(256, 8, 7)\n"
     ]
    },
    {
     "output_type": "execute_result",
     "data": {
      "text/plain": [
       "(18, 7)"
      ]
     },
     "metadata": {},
     "execution_count": 55
    }
   ],
   "source": [
    "keys = [\"OO\", \"XP\", \"XN\", \"YP\", \"YN\", \"ZP\", \"ZN\"]\n",
    "complete_profiles = []\n",
    "for l in l_bis:\n",
    "    # apply the stencils in all corners of all possible configurations\n",
    "    p_s = [l.apply_stencil(corner_state[k]).flatten() for k in keys]\n",
    "\n",
    "    # concatenate results into columns\n",
    "    profile = np.c_[tuple(p_s)]\n",
    "\n",
    "    complete_profiles.append(profile)\n",
    "\n",
    "complete_profiles = np.array(complete_profiles)\n",
    "print(complete_profiles.shape)\n",
    "\n",
    "unique_profiles = []\n",
    "for l, loc in zip(corner_neigh_lattices,corner_loc_lattices):\n",
    "    # apply the stencils in all corners of all possible configurations\n",
    "    p_s = [l.apply_stencil(corner_state[k]).flatten() for k in keys]\n",
    "\n",
    "    # concatenate results into columns\n",
    "    profile = np.c_[tuple(p_s)]\n",
    "\n",
    "    # extract the profile of the origin of the corner only\n",
    "    origin_profile = profile[loc.flatten()==1].flatten()\n",
    "\n",
    "    unique_profiles.append(origin_profile)\n",
    "\n",
    "unique_profiles = np.array(unique_profiles)\n",
    "unique_profiles.shape"
   ]
  },
  {
   "cell_type": "code",
   "execution_count": 26,
   "metadata": {},
   "outputs": [
    {
     "output_type": "stream",
     "name": "stdout",
     "text": [
      "[[-0.5 -0.5 -0.5]\n [-0.5 -0.5  0.5]\n [-0.5  0.5 -0.5]\n [-0.5  0.5  0.5]\n [ 0.5 -0.5 -0.5]\n [ 0.5 -0.5  0.5]\n [ 0.5  0.5 -0.5]\n [ 0.5  0.5  0.5]]\n"
     ]
    }
   ],
   "source": [
    "corner_pos = np.array(np.where(np.ones((2,2,2)) == 1)).T - 0.5\n",
    "print(corner_pos)\n",
    "\n",
    "tiles_meshes = []\n",
    "### loading meshes\n",
    "for tile in tile_corner_inds:\n",
    "    last_v_count = 0\n",
    "    vertice_list = []\n",
    "    face_list = []\n",
    "    for c_ind, pos in zip(tile, corner_pos):\n",
    "        # extract current mesh\n",
    "        corner_mesh = meshes[c_ind]\n",
    "        if type(corner_mesh) == tm.base.Trimesh:\n",
    "            # append the vertices\n",
    "            vertice_list.append(corner_mesh.vertices + pos)\n",
    "            face_list.append(corner_mesh.faces + last_v_count)\n",
    "            last_v_count += len(corner_mesh.vertices)\n",
    "\n",
    "    vs = []\n",
    "    fs = []\n",
    "    if len(vertice_list):\n",
    "        vs = np.vstack(vertice_list)\n",
    "        fs = np.vstack(face_list)\n",
    "\n",
    "    tile_mesh = tm.Trimesh(vs, fs)\n",
    "    tiles_meshes.append(tile_mesh)\n"
   ]
  },
  {
   "cell_type": "code",
   "execution_count": 29,
   "metadata": {},
   "outputs": [
    {
     "output_type": "display_data",
     "data": {
      "text/plain": "ViewInteractiveWidget(height=768, layout=Layout(height='auto', width='100%'), width=1024)",
      "application/vnd.jupyter.widget-view+json": {
       "version_major": 2,
       "version_minor": 0,
       "model_id": "2733603802e7447e913a00db81c17875"
      }
     },
     "metadata": {}
    },
    {
     "output_type": "execute_result",
     "data": {
      "text/plain": [
       "[(4.363703305156274, 4.363703305156274, 4.363703305156274),\n",
       " (0.5, 0.5, 0.5),\n",
       " (0.0, 0.0, 1.0)]"
      ]
     },
     "metadata": {},
     "execution_count": 29
    }
   ],
   "source": [
    "# convert mesh to pv_mesh\n",
    "def tri_to_pv(tri_mesh):\n",
    "    faces = np.pad(tri_mesh.faces, ((0, 0),(1,0)), 'constant', constant_values=3)\n",
    "    pv_mesh = pv.PolyData(tri_mesh.vertices, faces)\n",
    "    return pv_mesh\n",
    "\n",
    "p = pv.Plotter(notebook=True)\n",
    "\n",
    "base_lattice = l_bis[0]\n",
    "\n",
    "# Set the grid dimensions: shape + 1 because we want to inject our values on the CELL data\n",
    "grid = pv.UniformGrid()\n",
    "grid.dimensions = np.array(base_lattice.shape) + 1\n",
    "# The bottom left corner of the data set\n",
    "grid.origin = base_lattice.minbound - base_lattice.unit * 0.5\n",
    "# These are the cell sizes along each axis\n",
    "grid.spacing = base_lattice.unit\n",
    "\n",
    "# adding the boundingbox wireframe\n",
    "p.add_mesh(grid.outline(), color=\"grey\", label=\"Domain\")\n",
    "\n",
    "# adding axes\n",
    "p.add_axes()\n",
    "p.show_bounds(grid=\"back\", location=\"back\", color=\"#aaaaaa\")\n",
    "\n",
    "def create_mesh(value):\n",
    "    i = int(value)\n",
    "    mesh = tiles_meshes[i]\n",
    "    lattice = l_bis[i]\n",
    "\n",
    "    # Add the data values to the cell data\n",
    "    grid.cell_arrays[\"cube\"] = lattice.flatten(order=\"F\").astype(int)# Flatten the array!\n",
    "    # filtering the voxels\n",
    "    threshed = grid.threshold([.9, 1.1], scalars=\"cube\")\n",
    "    # adding the voxels\n",
    "    p.add_mesh(threshed, name='sphere2', show_edges=True, opacity=0.2, show_scalar_bar=False, color=\"white\")\n",
    "\n",
    "    # adding the meshes\n",
    "    p.add_mesh(tri_to_pv(mesh), color='#abd8ff', name=\"sphere\")\n",
    "\n",
    "    return\n",
    "\n",
    "p.add_slider_widget(create_mesh, [0, len(tiles_meshes)], title='Tiles', value=1, event_type=\"always\", style=\"classic\", pointa=(0.1, 0.1), pointb=(0.9, 0.1))\n",
    "\n",
    "p.show(use_ipyvtk=True)"
   ]
  },
  {
   "cell_type": "code",
   "execution_count": 10,
   "metadata": {},
   "outputs": [
    {
     "output_type": "error",
     "ename": "NameError",
     "evalue": "name 'obj_path' is not defined",
     "traceback": [
      "\u001b[0;31m---------------------------------------------------------------------------\u001b[0m",
      "\u001b[0;31mNameError\u001b[0m                                 Traceback (most recent call last)",
      "\u001b[0;32m<ipython-input-10-4329789a8f16>\u001b[0m in \u001b[0;36m<module>\u001b[0;34m\u001b[0m\n\u001b[1;32m     24\u001b[0m \u001b[0;31m# out\u001b[0m\u001b[0;34m\u001b[0m\u001b[0;34m\u001b[0m\u001b[0;34m\u001b[0m\u001b[0m\n\u001b[1;32m     25\u001b[0m \u001b[0;34m\u001b[0m\u001b[0m\n\u001b[0;32m---> 26\u001b[0;31m \u001b[0;32mwith\u001b[0m \u001b[0mopen\u001b[0m\u001b[0;34m(\u001b[0m\u001b[0mobj_path\u001b[0m\u001b[0;34m,\u001b[0m \u001b[0;34m'w'\u001b[0m\u001b[0;34m)\u001b[0m \u001b[0;32mas\u001b[0m \u001b[0mfile\u001b[0m\u001b[0;34m:\u001b[0m\u001b[0;34m\u001b[0m\u001b[0;34m\u001b[0m\u001b[0m\n\u001b[0m\u001b[1;32m     27\u001b[0m     \u001b[0mfile\u001b[0m\u001b[0;34m.\u001b[0m\u001b[0mwrite\u001b[0m\u001b[0;34m(\u001b[0m\u001b[0mtm\u001b[0m\u001b[0;34m.\u001b[0m\u001b[0mexchange\u001b[0m\u001b[0;34m.\u001b[0m\u001b[0mobj\u001b[0m\u001b[0;34m.\u001b[0m\u001b[0mexport_obj\u001b[0m\u001b[0;34m(\u001b[0m\u001b[0mtri_mesh\u001b[0m\u001b[0;34m)\u001b[0m\u001b[0;34m)\u001b[0m\u001b[0;34m\u001b[0m\u001b[0;34m\u001b[0m\u001b[0m\n\u001b[1;32m     28\u001b[0m \u001b[0;31m# tri_mesh.show()\u001b[0m\u001b[0;34m\u001b[0m\u001b[0;34m\u001b[0m\u001b[0;34m\u001b[0m\u001b[0m\n",
      "\u001b[0;31mNameError\u001b[0m: name 'obj_path' is not defined"
     ]
    }
   ],
   "source": [
    "lattice = corner_neigh_lattices[4]\n",
    "\n",
    "# Set the grid dimensions: shape + 1 because we want to inject our values on the CELL data\n",
    "grid = pv.UniformGrid()\n",
    "grid.dimensions = np.array(lattice.shape) + 1\n",
    "# The bottom left corner of the data set\n",
    "grid.origin = lattice.minbound - lattice.unit * 0.5\n",
    "# These are the cell sizes along each axis\n",
    "grid.spacing = lattice.unit \n",
    "\n",
    "# Add the data values to the cell data\n",
    "grid.cell_arrays[\"filled\"] = lattice.flatten(order=\"F\").astype(int)  # Flatten the array!\n",
    "# filtering the voxels\n",
    "threshed = grid.threshold([.9, 1.1], scalars=\"filled\")\n",
    "# extract mesh\n",
    "mesh = threshed.extract_surface()\n",
    "points = mesh.points\n",
    "quad_faces = mesh.faces.reshape((-1, 5))[:, 1:]\n",
    "tri_faces = np.c_[quad_faces[:,0:3], quad_faces[:,2:4], quad_faces[:,0]].reshape((-1, 3))\n",
    "tri_faces_pv = np.c_[np.full(len(tri_faces), 3), tri_faces]\n",
    "# pv.PolyData(points, tri_faces)\n",
    "tri_mesh = tm.Trimesh(points, tri_faces)\n",
    "# out = \n",
    "# out\n",
    "\n",
    "with open(obj_path, 'w') as file:\n",
    "    file.write(tm.exchange.obj.export_obj(tri_mesh))\n",
    "# tri_mesh.show()\n",
    "# tri_faces_pv\n",
    "# tri_faces"
   ]
  },
  {
   "source": [
    "### Credits"
   ],
   "cell_type": "markdown",
   "metadata": {}
  },
  {
   "cell_type": "code",
   "execution_count": null,
   "metadata": {},
   "outputs": [],
   "source": [
    "__aut__author__ = \"Shervin Azadi\"\n",
    "__license__ = \"MIT\"\n",
    "__version__ = \"1.0\"\n",
    "__url__ = \"https://github.com/shervinazadi/spatial_computing_workshops\"\n",
    "__summary__ = \"Spatial Computing Design Studio Workshop on Polygonization\""
   ]
  }
 ]
}