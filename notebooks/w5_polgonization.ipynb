{
 "metadata": {
  "language_info": {
   "codemirror_mode": {
    "name": "ipython",
    "version": 3
   },
   "file_extension": ".py",
   "mimetype": "text/x-python",
   "name": "python",
   "nbconvert_exporter": "python",
   "pygments_lexer": "ipython3",
   "version": "3.8.5-final"
  },
  "orig_nbformat": 2,
  "kernelspec": {
   "name": "python3",
   "display_name": "Python 3.8.5 64-bit ('sc_workshops': conda)",
   "metadata": {
    "interpreter": {
     "hash": "787ea478c22349cf73d867deb0a19fc58e75e9742a9aed6f48d06cc412ad6e3b"
    }
   }
  }
 },
 "nbformat": 4,
 "nbformat_minor": 2,
 "cells": [
  {
   "source": [
    "# Polygonization\n",
    "\n",
    "In this workshop we will learn how to convert our topological model of the building into a geometric model."
   ],
   "cell_type": "markdown",
   "metadata": {}
  },
  {
   "cell_type": "code",
   "execution_count": 1,
   "metadata": {},
   "outputs": [],
   "source": [
    "import topogenesis as tg\n",
    "import numpy as np \n",
    "import pyvista as pv\n",
    "import os\n",
    "import copy"
   ]
  },
  {
   "cell_type": "code",
   "execution_count": 2,
   "metadata": {},
   "outputs": [],
   "source": [
    "# create all possible configurations\n",
    "l_bis = []\n",
    "for i in range(2**8):\n",
    "    bi = np.array(list(np.binary_repr(i, width=8))).astype(int).reshape((2,2,2))\n",
    "    l_bi = tg.to_lattice(bi, [0,0,0])\n",
    "    l_bis.append(l_bi)"
   ]
  },
  {
   "cell_type": "code",
   "execution_count": 13,
   "metadata": {},
   "outputs": [],
   "source": [
    "#  creating stencils\n",
    "so_base = tg.create_stencil(\"von_neumann\", 0, 1)\n",
    "sx_base = copy.deepcopy(so_base)\n",
    "sx_base.set_index((0,0,0), 0)\n",
    "sx_base.set_index((1,0,0), 1)\n",
    "\n",
    "# setting separate direction\n",
    "corner_state = dict(\n",
    "    OO = so_base,\n",
    "    XP = sx_base,\n",
    "    XN = np.flip(sx_base, 0),\n",
    "    YP = np.transpose(sx_base, (1,0,2)),\n",
    "    YN = np.transpose(np.flip(sx_base, 0), (1,0,2)),\n",
    "    ZP = np.transpose(sx_base, (2,1,0)),\n",
    "    ZN = np.transpose(np.flip(sx_base, 0), (2,1,0))\n",
    ")\n",
    "# setting paired directions\n",
    "corner_state[\"XX\"] = corner_state[\"XN\"] + corner_state[\"XP\"]\n",
    "corner_state[\"YY\"] = corner_state[\"YN\"] + corner_state[\"YP\"]\n",
    "corner_state[\"ZZ\"] = corner_state[\"ZN\"] + corner_state[\"ZP\"]\n",
    "\n",
    "# dummy symmetry string \n",
    "# sym_str = [[\"OO\"], [\"XP\"], [\"XN\"], [\"YP\"], [\"YN\"], [\"ZP\"], [\"ZN\"]]\n",
    "# sym_str = [[\"OO\"], [\"XX\"], [\"YP\"], [\"YN\"], [\"ZP\"], [\"ZN\"]]\n",
    "# sym_str = [[\"OO\"], [\"XX\", \"YY\"], [\"ZP\"], [\"ZN\"]]\n",
    "sym_str = [[\"OO\"], [\"XX\", \"YY\"], [\"ZZ\"]]\n",
    "# sym_str = [[\"OO\"], [\"XX\", \"YY\", \"ZZ\"]]\n",
    "# sym_str = [[\"OO\"]]\n",
    "\n",
    "stencils = []\n",
    "\n",
    "for i, sym in enumerate(sym_str):\n",
    "    # init the symmetry stencil with the first item\n",
    "    sym_stencil = copy.deepcopy(corner_state[sym[0]])\n",
    "    # iteratively add the rest of the symmetry stencils together\n",
    "    for key in sym[1:]:\n",
    "        sym_stencil += corner_state[key]\n",
    "    # append\n",
    "    stencils.append(sym_stencil)\n",
    "    # compute the sum of all stencils\n",
    "    if i == 0:\n",
    "        stencil_sum = copy.deepcopy(sym_stencil)\n",
    "    else:\n",
    "        stencil_sum += sym_stencil\n",
    "\n",
    "# check if there is any neighbours that are not included\n",
    "stencil_rest = tg.create_stencil(\"von_neumann\", 1, 1) - stencil_sum\n",
    "\n",
    "# print(np.zeros((3,3,3)).sum())\n",
    "if (np.array(stencil_rest).sum()):\n",
    "    stencil_rest.function = tg.sfunc.sum\n",
    "    stencils.append(stencil_rest)\n",
    "\n",
    "# add the sum function to all stencils\n",
    "for s in stencils:\n",
    "    s.function = tg.sfunc.sum"
   ]
  },
  {
   "cell_type": "code",
   "execution_count": 14,
   "metadata": {},
   "outputs": [
    {
     "output_type": "stream",
     "name": "stdout",
     "text": [
      "[[0 0 0]\n [0 0 1]\n [0 1 0]\n [0 1 1]\n [0 2 0]\n [0 2 1]\n [1 0 0]\n [1 0 1]\n [1 1 0]\n [1 1 1]\n [1 2 0]\n [1 2 1]]\n12\n"
     ]
    }
   ],
   "source": [
    "results = []\n",
    "for l in l_bis:\n",
    "    # apply the stencils in all corners of all possible configurations\n",
    "    r_s = [l.apply_stencil(s).flatten() for s in stencils]\n",
    "\n",
    "    # concatenate results into columns\n",
    "    result = np.c_[tuple(r_s)]\n",
    "\n",
    "    results.append(result)\n",
    "\n",
    "# stack results vertically\n",
    "res_stacked = np.vstack(results)\n",
    "\n",
    "# find the uniqe arangements of corners\n",
    "uniq_corner_arang = np.unique(res_stacked, axis = 0)\n",
    "print(uniq_corner_arang)\n",
    "print(len(uniq_corner_arang))"
   ]
  },
  {
   "cell_type": "code",
   "execution_count": 15,
   "metadata": {},
   "outputs": [
    {
     "output_type": "stream",
     "name": "stdout",
     "text": [
      "[array([[0, 0, 0]]), array([[ 1,  0,  0],\n       [ 0,  1,  0],\n       [ 0, -1,  0],\n       [-1,  0,  0]]), array([[ 0,  0,  1],\n       [ 0,  0, -1]])]\n"
     ]
    }
   ],
   "source": [
    "stencil_ind = []\n",
    "for s in stencils:\n",
    "    filled_ind = np.array(np.where(np.array(s)==1)).T\n",
    "    #relocate to corner\n",
    "    filled_ind_reloc = filled_ind - 1\n",
    "    # flip vertically\n",
    "    filled_ind_flpd = np.flip(filled_ind_reloc, 0).astype(int)\n",
    "\n",
    "    stencil_ind.append(filled_ind_flpd)\n",
    "print(stencil_ind)"
   ]
  },
  {
   "cell_type": "code",
   "execution_count": 16,
   "metadata": {},
   "outputs": [],
   "source": [
    "# generate mini-lattices to represent the geometrical equivalent of unique corner arrangments\n",
    "base_zero = np.zeros((2,2,2), dtype=np.int8)\n",
    "\n",
    "corner_neigh_lattices = []\n",
    "corner_loc_lattices = []\n",
    "# for each unique arangement, create a representation\n",
    "for uca in uniq_corner_arang:\n",
    "    corner_arang = np.copy(base_zero)\n",
    "    corner_loc = np.copy(base_zero)\n",
    "    corner_loc[0,0,0] = 1\n",
    "\n",
    "    shift = np.zeros(3)\n",
    "    # for each list of indices of each stencil\n",
    "    for i, s_inds in enumerate(stencil_ind):\n",
    "        # for each index\n",
    "        for j, s_i in enumerate(s_inds):\n",
    "            # check if the sum is big enough to mark this index\n",
    "            if uca[i] > j:\n",
    "                # check if the index is positive\n",
    "                if s_i.sum() >= 0:\n",
    "                    # mark as one\n",
    "                    corner_arang[tuple(s_i)] = 1\n",
    "                # if the index is negative\n",
    "                else:\n",
    "                    # mark as one\n",
    "                    corner_arang[tuple(s_i)] = 1\n",
    "                    # record the index as a shift\n",
    "                    shift += s_i\n",
    "\n",
    "    # roll nwighbourhood and locations\n",
    "    corner_arang = np.roll(corner_arang, tuple(shift.astype(int)), (0,1,2))\n",
    "    corner_loc = np.roll(corner_loc, tuple(shift.astype(int)), (0,1,2))\n",
    "\n",
    "    # convert to lattice\n",
    "    corner_lat = tg.to_lattice(corner_arang, np.zeros(3))\n",
    "    corner_neigh_lattices.append(corner_lat)\n",
    "\n",
    "    corner_loc_lat = tg.to_lattice(corner_loc, np.zeros(3))\n",
    "    corner_loc_lattices.append(corner_loc_lat)"
   ]
  },
  {
   "cell_type": "code",
   "execution_count": 17,
   "metadata": {},
   "outputs": [
    {
     "output_type": "display_data",
     "data": {
      "text/plain": "ViewInteractiveWidget(height=768, layout=Layout(height='auto', width='100%'), width=1024)",
      "application/vnd.jupyter.widget-view+json": {
       "version_major": 2,
       "version_minor": 0,
       "model_id": "9a8cddc6853a44acb3e3d91c05543636"
      }
     },
     "metadata": {}
    },
    {
     "output_type": "execute_result",
     "data": {
      "text/plain": [
       "[(4.363703305156274, 4.363703305156274, 4.363703305156274),\n",
       " (0.5, 0.5, 0.5),\n",
       " (0.0, 0.0, 1.0)]"
      ]
     },
     "metadata": {},
     "execution_count": 17
    }
   ],
   "source": [
    "p = pv.Plotter(notebook=True)\n",
    "\n",
    "base_lattice = corner_neigh_lattices[0]\n",
    "\n",
    "# Set the grid dimensions: shape + 1 because we want to inject our values on the CELL data\n",
    "grid = pv.UniformGrid()\n",
    "grid.dimensions = np.array(base_lattice.shape) + 1\n",
    "# The bottom left corner of the data set\n",
    "grid.origin = base_lattice.minbound - base_lattice.unit * 0.5\n",
    "# These are the cell sizes along each axis\n",
    "grid.spacing = base_lattice.unit \n",
    "\n",
    "# adding the boundingbox wireframe\n",
    "p.add_mesh(grid.outline(), color=\"grey\", label=\"Domain\")\n",
    "\n",
    "# # adding the avilability lattice\n",
    "# init_avail_lattice.fast_vis(p)\n",
    "\n",
    "# adding axes\n",
    "p.add_axes()\n",
    "p.show_bounds(grid=\"back\", location=\"back\", color=\"#aaaaaa\")\n",
    "\n",
    "def create_mesh(value):\n",
    "    f = int(value)\n",
    "    lattice = corner_neigh_lattices[f]\n",
    "    loc = corner_loc_lattices[f]\n",
    "\n",
    "    # Add the data values to the cell data\n",
    "    grid.cell_arrays[\"filled\"] = lattice.flatten(order=\"F\").astype(int)  # Flatten the array!\n",
    "    # filtering the voxels\n",
    "    threshed = grid.threshold([.9, 1.1], scalars=\"filled\")\n",
    "    # adding the voxels\n",
    "    p.add_mesh(threshed, name='sphere', show_edges=True, opacity=0.7, show_scalar_bar=False)\n",
    "    \n",
    "    # Add the data values to the cell data\n",
    "    grid.cell_arrays[\"corner\"] = loc.flatten(order=\"F\").astype(int)# Flatten the array!\n",
    "    # filtering the voxels\n",
    "    threshed = grid.threshold([.9, 1.1], scalars=\"corner\")\n",
    "    # adding the voxels\n",
    "    p.add_mesh(threshed, name='sphere2', show_edges=True, opacity=1.0, show_scalar_bar=False, color=\"white\")\n",
    "\n",
    "    return\n",
    "\n",
    "p.add_slider_widget(create_mesh, [1, len(corner_neigh_lattices)], title='Arrangements', value=1, event_type=\"always\", style=\"classic\", pointa=(0.1, 0.1), pointb=(0.9, 0.1))\n",
    "p.show(use_ipyvtk=True)"
   ]
  },
  {
   "source": [
    "### Credits"
   ],
   "cell_type": "markdown",
   "metadata": {}
  },
  {
   "cell_type": "code",
   "execution_count": null,
   "metadata": {},
   "outputs": [],
   "source": [
    "__aut__author__ = \"Shervin Azadi\"\n",
    "__license__ = \"MIT\"\n",
    "__version__ = \"1.0\"\n",
    "__url__ = \"https://github.com/shervinazadi/spatial_computing_workshops\"\n",
    "__summary__ = \"Spatial Computing Design Studio Workshop on Polygonization\""
   ]
  }
 ]
}