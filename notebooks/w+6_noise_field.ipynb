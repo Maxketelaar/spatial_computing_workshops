{
 "cells": [
  {
   "cell_type": "markdown",
   "metadata": {},
   "source": [
    "# Noise Field\n",
    "\n",
    "In this workshop, we will learn about creation of noise field, based on a set of noise sources."
   ]
  },
  {
   "cell_type": "markdown",
   "metadata": {},
   "source": [
    "## 0. Initialization\n",
    "\n",
    "### 0.1. Load required libraries"
   ]
  },
  {
   "cell_type": "code",
   "execution_count": 1,
   "metadata": {},
   "outputs": [],
   "source": [
    "import os\n",
    "import topogenesis as tg\n",
    "import pyvista as pv\n",
    "import trimesh as tm\n",
    "import numpy as np\n",
    "import scipy as sp"
   ]
  },
  {
   "cell_type": "markdown",
   "metadata": {},
   "source": [
    "### 0.2. Load the envelope lattice as the avialbility lattice"
   ]
  },
  {
   "cell_type": "code",
   "execution_count": 2,
   "metadata": {},
   "outputs": [],
   "source": [
    "# loading the lattice from csv\n",
    "lattice_path = os.path.relpath('../data/voxelized_envelope.csv')\n",
    "avail_lattice = tg.lattice_from_csv(lattice_path)\n",
    "init_avail_lattice = tg.to_lattice(np.copy(avail_lattice), avail_lattice)"
   ]
  },
  {
   "cell_type": "markdown",
   "metadata": {},
   "source": [
    "### 0.3. Load noise sources"
   ]
  },
  {
   "cell_type": "code",
   "execution_count": 3,
   "metadata": {
    "scrolled": true
   },
   "outputs": [
    {
     "output_type": "execute_result",
     "data": {
      "text/plain": [
       "array([[ 181.11863812,   95.76447471,    0.        ],\n",
       "       [ 150.66350669,   94.85490038,    0.        ],\n",
       "       [ 120.20837525,   93.94532604,    0.        ],\n",
       "       [  89.75324382,   93.0357517 ,    0.        ],\n",
       "       [  59.29811239,   92.12617736,    0.        ],\n",
       "       [  28.84298096,   91.21660303,    0.        ],\n",
       "       [  -1.61215047,   90.30702869,    0.        ],\n",
       "       [ -32.0672819 ,   89.39745435,    0.        ],\n",
       "       [ -62.52241333,   88.48788001,    0.        ],\n",
       "       [ -92.97754477,   87.57830567,    0.        ],\n",
       "       [-123.4326762 ,   86.66873134,    0.        ]])"
      ]
     },
     "metadata": {},
     "execution_count": 3
    }
   ],
   "source": [
    "# loading program (agents information) from CSV\n",
    "noise_source_path = os.path.relpath('../data/noise_points.csv')\n",
    "noise_sources = np.genfromtxt(noise_source_path, delimiter=',')\n",
    "noise_sources"
   ]
  },
  {
   "source": [
    "### 0.4. Visualize noise source points"
   ],
   "cell_type": "markdown",
   "metadata": {}
  },
  {
   "cell_type": "code",
   "execution_count": 4,
   "metadata": {},
   "outputs": [
    {
     "output_type": "display_data",
     "data": {
      "text/plain": "ViewInteractiveWidget(height=768, layout=Layout(height='auto', width='100%'), width=1024)",
      "application/vnd.jupyter.widget-view+json": {
       "version_major": 2,
       "version_minor": 0,
       "model_id": "323f8dc425e74f4292e784c68578f4f7"
      }
     },
     "metadata": {}
    },
    {
     "output_type": "execute_result",
     "data": {
      "text/plain": [
       "[(452.0735071069646, 408.6127635037751, 443.2305261469637),\n",
       " (28.8429809600009, -14.61776264318862, 20.0),\n",
       " (0.0, 0.0, 1.0)]"
      ]
     },
     "metadata": {},
     "execution_count": 4
    }
   ],
   "source": [
    "p = pv.Plotter(notebook=True)\n",
    "\n",
    "\n",
    "# adding the avilability lattice\n",
    "init_avail_lattice.fast_vis(p)\n",
    "\n",
    "# adding axes\n",
    "p.add_axes()\n",
    "\n",
    "p.add_mesh(noise_sources, point_size=10)\n",
    "\n",
    "p.show(use_ipyvtk=True)"
   ]
  },
  {
   "source": [
    "## 1. Creation of Noise Field\n",
    "\n",
    "### 1.1. Computing noise lattices"
   ],
   "cell_type": "markdown",
   "metadata": {}
  },
  {
   "cell_type": "code",
   "execution_count": 5,
   "metadata": {
    "tags": []
   },
   "outputs": [],
   "source": [
    "# create full lattice\n",
    "full_lattice = avail_lattice * 0 + 1\n",
    "\n",
    "# extract the coordiantes of the centroid of all voxel\n",
    "vox_centroids = full_lattice.centroids\n",
    "\n",
    "# extract voxel indices of all voxels\n",
    "vox_indices = np.array(np.where(full_lattice==1)).T\n",
    "\n",
    "# setting the noise base pressure level \n",
    "noise_base = 75.0\n",
    "\n",
    "# initializing the sum lattice of noise\n",
    "sum_noise_lats = avail_lattice * 0.0\n",
    "\n",
    "# for each source of noise\n",
    "for noise_src in noise_sources:\n",
    "    # initialize the occupation lattice\n",
    "    dist_latice = avail_lattice * 0.0\n",
    "\n",
    "    for cen, ind in zip(vox_centroids, vox_indices):\n",
    "        # compute the euclidian distance\n",
    "        dist_latice[tuple(ind)] = sp.spatial.distance.euclidean(cen, noise_src)\n",
    "\n",
    "    # computing the noise lattice from dist lattice\n",
    "    noise_latice = noise_base - 20 * np.log10(dist_latice) - 8\n",
    "    \n",
    "    # summing\n",
    "    sum_noise_lats += np.power(10, noise_latice / 10.0)\n",
    "\n",
    "\n",
    "# computing the final aggregation\n",
    "agg_noise_lats = 10 * np.log10(sum_noise_lats)"
   ]
  },
  {
   "source": [
    "### 1.2. Visualizing the noise lattices"
   ],
   "cell_type": "markdown",
   "metadata": {}
  },
  {
   "cell_type": "code",
   "execution_count": 6,
   "metadata": {
    "scrolled": true
   },
   "outputs": [
    {
     "output_type": "display_data",
     "data": {
      "text/plain": "ViewInteractiveWidget(height=768, layout=Layout(height='auto', width='100%'), width=1024)",
      "application/vnd.jupyter.widget-view+json": {
       "version_major": 2,
       "version_minor": 0,
       "model_id": "f968ffa3e8f3495d8747d2d18d635c0d"
      }
     },
     "metadata": {}
    },
    {
     "output_type": "execute_result",
     "data": {
      "text/plain": [
       "[(268.15990242089225, 183.15990242089225, 253.15990242089225),\n",
       " (35.0, -50.0, 20.0),\n",
       " (0.0, 0.0, 1.0)]"
      ]
     },
     "metadata": {},
     "execution_count": 6
    }
   ],
   "source": [
    "# initiating the plotter\n",
    "p = pv.Plotter(notebook=True)\n",
    "\n",
    "vis_lattice = agg_noise_lats\n",
    "\n",
    "# Create the spatial reference\n",
    "grid = pv.UniformGrid()\n",
    "\n",
    "# Set the grid dimensions: shape because we want to inject our values\n",
    "grid.dimensions = vis_lattice.shape\n",
    "# The bottom left corner of the data set\n",
    "grid.origin = vis_lattice.minbound\n",
    "# These are the cell sizes along each axis\n",
    "grid.spacing = vis_lattice.unit\n",
    "\n",
    "# Add the data values to the cell data\n",
    "grid.point_arrays[\"Noise\"] = vis_lattice.flatten(order=\"F\")  # Flatten the Lattice\n",
    "\n",
    "    \n",
    "# adding the volume\n",
    "opacity = np.array([0,0.6,0.6,0.6,0.6,0.6,0.6])*1.5\n",
    "p.add_volume(grid, cmap=\"coolwarm\" ,opacity=opacity, shade=True)\n",
    "\n",
    "# plotting\n",
    "p.show(use_ipyvtk=True)"
   ]
  },
  {
   "cell_type": "markdown",
   "metadata": {},
   "source": [
    "### Credits"
   ]
  },
  {
   "cell_type": "code",
   "execution_count": 7,
   "metadata": {},
   "outputs": [],
   "source": [
    "__author__ = \"Shervin Azadi\"\n",
    "__license__ = \"MIT\"\n",
    "__version__ = \"1.0\"\n",
    "__url__ = \"https://github.com/shervinazadi/spatial_computing_workshops\"\n",
    "__summary__ = \"Spatial Computing Design Studio Workshop on Noise Fields\""
   ]
  }
 ],
 "metadata": {
  "kernelspec": {
   "name": "python3",
   "display_name": "Python 3.8.5 64-bit ('sc_workshops': conda)",
   "metadata": {
    "interpreter": {
     "hash": "787ea478c22349cf73d867deb0a19fc58e75e9742a9aed6f48d06cc412ad6e3b"
    }
   }
  },
  "language_info": {
   "codemirror_mode": {
    "name": "ipython",
    "version": 3
   },
   "file_extension": ".py",
   "mimetype": "text/x-python",
   "name": "python",
   "nbconvert_exporter": "python",
   "pygments_lexer": "ipython3",
   "version": "3.8.5-final"
  }
 },
 "nbformat": 4,
 "nbformat_minor": 2
}