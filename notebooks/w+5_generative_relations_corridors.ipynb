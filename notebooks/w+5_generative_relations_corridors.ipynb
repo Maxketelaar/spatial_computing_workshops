{
 "cells": [
  {
   "cell_type": "markdown",
   "metadata": {},
   "source": [
    "# Generative Relations: Corridor Generation\n",
    "\n",
    "In this workshop, we will learn about creation of vertical shafts, path-finding between agents, and constructition of coridor system within the building."
   ]
  },
  {
   "cell_type": "markdown",
   "metadata": {},
   "source": [
    "## 0. Initialization\n",
    "\n",
    "### 0.1. Load required libraries"
   ]
  },
  {
   "cell_type": "code",
   "execution_count": 10,
   "metadata": {},
   "outputs": [],
   "source": [
    "import os\n",
    "import topogenesis as tg\n",
    "import pyvista as pv\n",
    "import trimesh as tm\n",
    "import numpy as np\n",
    "import networkx as nx\n",
    "from sklearn.cluster import KMeans\n",
    "np.random.seed(0)"
   ]
  },
  {
   "cell_type": "markdown",
   "metadata": {},
   "source": [
    "### 0.2. Define the Neighborhood (Stencil)"
   ]
  },
  {
   "cell_type": "code",
   "execution_count": 11,
   "metadata": {},
   "outputs": [
    {
     "output_type": "stream",
     "name": "stdout",
     "text": [
      "[[[0 0 0]\n  [0 1 0]\n  [0 0 0]]\n\n [[0 1 0]\n  [0 0 0]\n  [0 1 0]]\n\n [[0 0 0]\n  [0 1 0]\n  [0 0 0]]]\n"
     ]
    }
   ],
   "source": [
    "# creating neighborhood definition\n",
    "stencil = tg.create_stencil(\"von_neumann\", 1, 1)\n",
    "# setting the center to zero\n",
    "stencil.set_index([0,0,0], 0)\n",
    "stencil.set_index([0,0,1], 0)\n",
    "stencil.set_index([0,0,-1], 0)\n",
    "print(stencil)"
   ]
  },
  {
   "cell_type": "markdown",
   "metadata": {},
   "source": [
    "### 0.3. Load the envelope lattice as the avialbility lattice"
   ]
  },
  {
   "cell_type": "code",
   "execution_count": 12,
   "metadata": {},
   "outputs": [],
   "source": [
    "# loading the lattice from csv\n",
    "lattice_path = os.path.relpath('../data/voxelized_envelope.csv')\n",
    "avail_lattice = tg.lattice_from_csv(lattice_path)\n",
    "init_avail_lattice = tg.to_lattice(np.copy(avail_lattice), avail_lattice)"
   ]
  },
  {
   "cell_type": "markdown",
   "metadata": {},
   "source": [
    "### 0.4. Load Agents Information"
   ]
  },
  {
   "cell_type": "code",
   "execution_count": 13,
   "metadata": {
    "scrolled": true
   },
   "outputs": [],
   "source": [
    "# loading program (agents information) from CSV\n",
    "prgm_path = os.path.relpath('../data/program_12.csv')\n",
    "agn_info = np.genfromtxt(prgm_path, delimiter=',')[1:, 1:]"
   ]
  },
  {
   "source": [
    "## 1. Creation of Vertical Shaft \n",
    "\n",
    "### 1.1. Agent initialization"
   ],
   "cell_type": "markdown",
   "metadata": {}
  },
  {
   "cell_type": "code",
   "execution_count": 14,
   "metadata": {},
   "outputs": [],
   "source": [
    "# initialize the occupation lattice\n",
    "occ_lattice = avail_lattice * 0 - 1\n",
    "\n",
    "# Finding the index of the available voxels in avail_lattice\n",
    "avail_flat = avail_lattice.flatten()\n",
    "avail_index = np.array(np.where(avail_lattice == 1)).T\n",
    "\n",
    "# Randomly choosing three available voxels\n",
    "agn_num = len(agn_info) # this is now based on the number of rows in our table\n",
    "select_id = np.random.choice(len(avail_index), agn_num)\n",
    "agn_origins = avail_index[select_id]\n",
    "\n",
    "# adding the origins to the agents locations\n",
    "agn_locs = []\n",
    "# for each agent origin ... \n",
    "for a_info, a_origin in zip(agn_info, agn_origins):\n",
    "    # add the origin to the list of agent locations\n",
    "    agn_locs.append([a_origin])\n",
    "\n",
    "    # set the origin in availablity lattice as 0 (UNavailable)\n",
    "    avail_lattice[tuple(a_origin)] = 0\n",
    "\n",
    "    # set the origin in occupation lattice as the agent id (a_id)\n",
    "    occ_lattice[tuple(a_origin)] = int(a_info[0]) # this is now based on the id of the agent in the program"
   ]
  },
  {
   "source": [
    "### 1.2. Visualizing the agents seeds"
   ],
   "cell_type": "markdown",
   "metadata": {}
  },
  {
   "cell_type": "code",
   "execution_count": 15,
   "metadata": {
    "scrolled": true
   },
   "outputs": [
    {
     "output_type": "display_data",
     "data": {
      "text/plain": "ViewInteractiveWidget(height=768, layout=Layout(height='auto', width='100%'), width=1024)",
      "application/vnd.jupyter.widget-view+json": {
       "version_major": 2,
       "version_minor": 0,
       "model_id": "522966dd85c04c2386790dbdb17256d0"
      }
     },
     "metadata": {}
    },
    {
     "output_type": "execute_result",
     "data": {
      "text/plain": [
       "[(285.89291929890817, 200.89291929890814, 270.89291929890817),\n",
       " (35.0, -50.0, 20.0),\n",
       " (0.0, 0.0, 1.0)]"
      ]
     },
     "metadata": {},
     "execution_count": 15
    }
   ],
   "source": [
    "p = pv.Plotter(notebook=True)\n",
    "\n",
    "base_lattice = occ_lattice\n",
    "\n",
    "# Set the grid dimensions: shape + 1 because we want to inject our values on the CELL data\n",
    "grid = pv.UniformGrid()\n",
    "grid.dimensions = np.array(base_lattice.shape) + 1\n",
    "# The bottom left corner of the data set\n",
    "grid.origin = base_lattice.minbound - base_lattice.unit * 0.5\n",
    "# These are the cell sizes along each axis\n",
    "grid.spacing = base_lattice.unit \n",
    "\n",
    "# adding the boundingbox wireframe\n",
    "p.add_mesh(grid.outline(), color=\"grey\", label=\"Domain\")\n",
    "\n",
    "# adding the avilability lattice\n",
    "init_avail_lattice.fast_vis(p)\n",
    "\n",
    "# adding axes\n",
    "p.add_axes()\n",
    "p.show_bounds(grid=\"back\", location=\"back\", color=\"#aaaaaa\")\n",
    "\n",
    "\n",
    "# Add the data values to the cell data\n",
    "grid.cell_arrays[\"Agents\"] = base_lattice.flatten(order=\"F\").astype(int)  # Flatten the array!\n",
    "# filtering the voxels\n",
    "threshed = grid.threshold([-0.1, agn_num - 0.9])\n",
    "# adding the voxels\n",
    "p.add_mesh(threshed, name='sphere', show_edges=True, opacity=1.0, show_scalar_bar=False)\n",
    "\n",
    "\n",
    "# p.add_slider_widget(create_mesh, [0, n_frames], title='Time', value=0, event_type=\"always\", style=\"classic\", pointa=(0.1, 0.1), pointb=(0.9, 0.1))\n",
    "p.show(use_ipyvtk=True)"
   ]
  },
  {
   "source": [
    "### 1.3. Cluster the existing voxels"
   ],
   "cell_type": "markdown",
   "metadata": {}
  },
  {
   "cell_type": "code",
   "execution_count": 16,
   "metadata": {},
   "outputs": [],
   "source": [
    "# extract the address of all occupied voxels\n",
    "occ_ind = np.array(np.where(occ_lattice > -1)).T\n",
    "\n",
    "# construct kmeans model and fit it to find the clustering\n",
    "kmeans_model = KMeans(n_clusters=3, random_state=0).fit(occ_ind)"
   ]
  },
  {
   "source": [
    "### 1.4. Set the vertical column of cluster centers as vertical shafts"
   ],
   "cell_type": "markdown",
   "metadata": {}
  },
  {
   "cell_type": "code",
   "execution_count": 17,
   "metadata": {},
   "outputs": [],
   "source": [
    "# extract cluster centers\n",
    "cluster_centers = np.round(kmeans_model.cluster_centers_).astype(np.int8)\n",
    "# init shaft lattice\n",
    "shft_lattice = occ_lattice * 0\n",
    "# set the shafts\n",
    "for cl_cen in cluster_centers:\n",
    "    shft_lattice[cl_cen[0],cl_cen[1],:] = 1"
   ]
  },
  {
   "source": [
    "### 1.5. Visualize Vertical Shafts"
   ],
   "cell_type": "markdown",
   "metadata": {}
  },
  {
   "cell_type": "code",
   "execution_count": 18,
   "metadata": {},
   "outputs": [
    {
     "output_type": "display_data",
     "data": {
      "text/plain": "ViewInteractiveWidget(height=768, layout=Layout(height='auto', width='100%'), width=1024)",
      "application/vnd.jupyter.widget-view+json": {
       "version_major": 2,
       "version_minor": 0,
       "model_id": "83743dd7f3d4470f8bf03c1d67914663"
      }
     },
     "metadata": {}
    },
    {
     "output_type": "execute_result",
     "data": {
      "text/plain": [
       "[(285.89291929890817, 200.89291929890814, 270.89291929890817),\n",
       " (35.0, -50.0, 20.0),\n",
       " (0.0, 0.0, 1.0)]"
      ]
     },
     "metadata": {},
     "execution_count": 18
    }
   ],
   "source": [
    "p = pv.Plotter(notebook=True)\n",
    "\n",
    "base_lattice = shft_lattice\n",
    "\n",
    "# Set the grid dimensions: shape + 1 because we want to inject our values on the CELL data\n",
    "grid = pv.UniformGrid()\n",
    "grid.dimensions = np.array(base_lattice.shape) + 1\n",
    "# The bottom left corner of the data set\n",
    "grid.origin = base_lattice.minbound - base_lattice.unit * 0.5\n",
    "# These are the cell sizes along each axis\n",
    "grid.spacing = base_lattice.unit \n",
    "\n",
    "# adding the boundingbox wireframe\n",
    "p.add_mesh(grid.outline(), color=\"grey\", label=\"Domain\")\n",
    "\n",
    "# adding the avilability lattice\n",
    "init_avail_lattice.fast_vis(p)\n",
    "\n",
    "# adding axes\n",
    "p.add_axes()\n",
    "p.show_bounds(grid=\"back\", location=\"back\", color=\"#aaaaaa\")\n",
    "\n",
    "\n",
    "# Add the data values to the cell data\n",
    "grid.cell_arrays[\"Agents\"] = base_lattice.flatten(order=\"F\").astype(int)  # Flatten the array!\n",
    "# filtering the voxels\n",
    "threshed = grid.threshold([0.9, 1.1])\n",
    "# adding the voxels\n",
    "p.add_mesh(threshed, name='sphere', show_edges=True, opacity=1.0, show_scalar_bar=False)\n",
    "\n",
    "\n",
    "# p.add_slider_widget(create_mesh, [0, n_frames], title='Time', value=0, event_type=\"always\", style=\"classic\", pointa=(0.1, 0.1), pointb=(0.9, 0.1))\n",
    "p.show(use_ipyvtk=True)"
   ]
  },
  {
   "source": [
    "## 2. Creation of Horizontal Corridors"
   ],
   "cell_type": "markdown",
   "metadata": {}
  },
  {
   "cell_type": "markdown",
   "metadata": {},
   "source": [
    "### 2.1. Extract the connectivity graph from the lattice based on the horizontal stencil"
   ]
  },
  {
   "cell_type": "code",
   "execution_count": 19,
   "metadata": {},
   "outputs": [],
   "source": [
    "# find the number of all voxels\n",
    "vox_count = avail_lattice.size \n",
    "\n",
    "# initialize the adjacency matrix\n",
    "adj_mtrx = np.zeros((vox_count,vox_count))\n",
    "\n",
    "# Finding the index of the available voxels in avail_lattice\n",
    "avail_index = np.array(np.where(avail_lattice == 1)).T\n",
    "\n",
    "# fill the adjacency matrix using the list of all neighbours\n",
    "for vox_loc in avail_index:\n",
    "    # find the 1D id\n",
    "    vox_id = np.ravel_multi_index(vox_loc, avail_lattice.shape)\n",
    "    # retrieve the list of neighbours of the voxel based on the stencil\n",
    "    vox_neighs = avail_lattice.find_neighbours_masked(stencil, loc = vox_loc)\n",
    "    # iterating over the neighbours\n",
    "    for neigh in vox_neighs:\n",
    "        # setting the entry to one\n",
    "        adj_mtrx[vox_id, neigh] = 1.0\n",
    "\n",
    "# construct the graph \n",
    "g = nx.from_numpy_array(adj_mtrx)"
   ]
  },
  {
   "source": [
    "### 2.2. Find the shortest path and construct the corridor"
   ],
   "cell_type": "markdown",
   "metadata": {}
  },
  {
   "cell_type": "code",
   "execution_count": 20,
   "metadata": {},
   "outputs": [],
   "source": [
    "# initialize corridor lattice\n",
    "cor_lattice = shft_lattice * 0\n",
    "cor_flat = cor_lattice.flatten()\n",
    "# for each voxel that needs to have access to shafts\n",
    "for a_vox in occ_ind:\n",
    "    \n",
    "    # slice the corridor lattice horizontally\n",
    "    cor_floor = shft_lattice[:,:,a_vox[2]]\n",
    "    # find the vertical shaft voxel indices\n",
    "    shaft_vox_inds = np.array(np.where(cor_floor > 0)).T\n",
    "    paths = []\n",
    "    path_lens = []\n",
    "    for shft_ind in shaft_vox_inds:\n",
    "        # construct the destination address\n",
    "        dst_vox = np.array([shft_ind[0],shft_ind[1],a_vox[2]])\n",
    "        # construct 1-dimensional indices\n",
    "        src_ind = np.ravel_multi_index(a_vox, shft_lattice.shape)\n",
    "        dst_ind = np.ravel_multi_index(dst_vox, shft_lattice.shape)\n",
    "        # find the shortest path\n",
    "        path = nx.algorithms.shortest_paths.astar.astar_path(g, src_ind, dst_ind)\n",
    "        paths.append(path)\n",
    "        path_lens.append(len(path))\n",
    "    \n",
    "    # find the shortest path\n",
    "    shortest_path = paths[np.array(path_lens).argmin()]\n",
    "\n",
    "    # set the shortest path occupied in the \n",
    "    cor_flat[shortest_path] = 1\n",
    "\n",
    "# reshape the flat lattice\n",
    "cor_lattice = cor_flat.reshape(cor_lattice.shape)"
   ]
  },
  {
   "cell_type": "markdown",
   "metadata": {},
   "source": [
    "### 2.3. Visualize the accessability lattice"
   ]
  },
  {
   "cell_type": "code",
   "execution_count": 21,
   "metadata": {},
   "outputs": [
    {
     "output_type": "display_data",
     "data": {
      "text/plain": "ViewInteractiveWidget(height=768, layout=Layout(height='auto', width='100%'), width=1024)",
      "application/vnd.jupyter.widget-view+json": {
       "version_major": 2,
       "version_minor": 0,
       "model_id": "e914d7f856454dae8a41f8106386c9ad"
      }
     },
     "metadata": {}
    },
    {
     "output_type": "execute_result",
     "data": {
      "text/plain": [
       "[(285.89291929890817, 200.89291929890814, 270.89291929890817),\n",
       " (35.0, -50.0, 20.0),\n",
       " (0.0, 0.0, 1.0)]"
      ]
     },
     "metadata": {},
     "execution_count": 21
    }
   ],
   "source": [
    "p = pv.Plotter(notebook=True)\n",
    "\n",
    "base_lattice = shft_lattice + cor_lattice\n",
    "\n",
    "# Set the grid dimensions: shape + 1 because we want to inject our values on the CELL data\n",
    "grid = pv.UniformGrid()\n",
    "grid.dimensions = np.array(base_lattice.shape) + 1\n",
    "# The bottom left corner of the data set\n",
    "grid.origin = base_lattice.minbound - base_lattice.unit * 0.5\n",
    "# These are the cell sizes along each axis\n",
    "grid.spacing = base_lattice.unit \n",
    "\n",
    "# adding the boundingbox wireframe\n",
    "p.add_mesh(grid.outline(), color=\"grey\", label=\"Domain\")\n",
    "\n",
    "# adding the avilability lattice\n",
    "init_avail_lattice.fast_vis(p)\n",
    "\n",
    "# adding axes\n",
    "p.add_axes()\n",
    "p.show_bounds(grid=\"back\", location=\"back\", color=\"#aaaaaa\")\n",
    "\n",
    "\n",
    "# Add the data values to the cell data\n",
    "grid.cell_arrays[\"Agents\"] = base_lattice.flatten(order=\"F\").astype(int)  # Flatten the array!\n",
    "# filtering the voxels\n",
    "threshed = grid.threshold([0.9, 2.1])\n",
    "# adding the voxels\n",
    "p.add_mesh(threshed, name='sphere', show_edges=True, opacity=1.0, show_scalar_bar=False)\n",
    "\n",
    "\n",
    "# p.add_slider_widget(create_mesh, [0, n_frames], title='Time', value=0, event_type=\"always\", style=\"classic\", pointa=(0.1, 0.1), pointb=(0.9, 0.1))\n",
    "p.show(use_ipyvtk=True)"
   ]
  },
  {
   "cell_type": "markdown",
   "metadata": {},
   "source": [
    "### Credits"
   ]
  },
  {
   "cell_type": "code",
   "execution_count": null,
   "metadata": {},
   "outputs": [],
   "source": [
    "__author__ = \"Shervin Azadi and Pirouz Nourian\"\n",
    "__license__ = \"MIT\"\n",
    "__version__ = \"1.0\"\n",
    "__url__ = \"https://github.com/shervinazadi/spatial_computing_workshops\"\n",
    "__summary__ = \"Spatial Computing Design Studio Workshop on Path Finding and Corridorfor Generative Spatial Relations\""
   ]
  }
 ],
 "metadata": {
  "kernelspec": {
   "name": "python3",
   "display_name": "Python 3.8.5 64-bit ('sc_workshops': conda)",
   "metadata": {
    "interpreter": {
     "hash": "787ea478c22349cf73d867deb0a19fc58e75e9742a9aed6f48d06cc412ad6e3b"
    }
   }
  },
  "language_info": {
   "codemirror_mode": {
    "name": "ipython",
    "version": 3
   },
   "file_extension": ".py",
   "mimetype": "text/x-python",
   "name": "python",
   "nbconvert_exporter": "python",
   "pygments_lexer": "ipython3",
   "version": "3.8.5-final"
  }
 },
 "nbformat": 4,
 "nbformat_minor": 2
}