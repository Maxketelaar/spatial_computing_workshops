{
 "cells": [
  {
   "cell_type": "markdown",
   "metadata": {},
   "source": [
    "# Voxelization Workshop\n",
    "\n",
    "In this workshop we will learn how to voxelize a geometry and construct a lattice from it.\n"
   ]
  },
  {
   "cell_type": "markdown",
   "metadata": {},
   "source": [
    "### 0. Initialization\n",
    "Importing all necessary libraries and specifying the inputs"
   ]
  },
  {
   "cell_type": "code",
   "execution_count": 8,
   "metadata": {
    "tags": []
   },
   "outputs": [],
   "source": [
    "import os\n",
    "import topogenesis as tg\n",
    "import pyvista as pv"
   ]
  },
  {
   "cell_type": "code",
   "execution_count": 9,
   "metadata": {
    "tags": []
   },
   "outputs": [],
   "source": [
    "vs = 0.01\n",
    "unit = [vs, vs, vs]\n",
    "tol = 1e-09\n",
    "mesh_path = os.path.relpath('../data/bunny_lowpoly.obj')\n",
    "mesh = tg.geometry.load_mesh(mesh_path)"
   ]
  },
  {
   "cell_type": "markdown",
   "metadata": {},
   "source": [
    "### 1. Sampling\n",
    "Running the sampling algorithm and asking the function to output the ray origins as well"
   ]
  },
  {
   "cell_type": "code",
   "execution_count": 10,
   "metadata": {},
   "outputs": [],
   "source": [
    "sample_cloud = tg.geometry.mesh_sampling(mesh, unit, multi_core_process=False, tol=tol)"
   ]
  },
  {
   "cell_type": "markdown",
   "metadata": {},
   "source": [
    "### 2. Voxelating\n",
    "Voxelating the point cloud to construct a lattice out of it"
   ]
  },
  {
   "cell_type": "code",
   "execution_count": 11,
   "metadata": {
    "scrolled": true
   },
   "outputs": [
    {
     "output_type": "stream",
     "name": "stdout",
     "text": [
      "<class 'topogenesis.datastructures.datastructures.lattice'>\n[0.01 0.01 0.01]\n[[-0.1   0.02 -0.07]\n [ 0.07  0.19  0.07]]\n"
     ]
    }
   ],
   "source": [
    "lattice = sample_cloud.voxelate(unit, closed=True)\n",
    "print(type(lattice))\n",
    "print(lattice.unit)\n",
    "print(lattice.bounds)"
   ]
  },
  {
   "cell_type": "markdown",
   "metadata": {},
   "source": [
    "### 3. Plotting"
   ]
  },
  {
   "cell_type": "code",
   "execution_count": 6,
   "metadata": {},
   "outputs": [
    {
     "output_type": "display_data",
     "data": {
      "text/plain": "ViewInteractiveWidget(height=768, layout=Layout(height='auto', width='100%'), width=1024)",
      "application/vnd.jupyter.widget-view+json": {
       "version_major": 2,
       "version_minor": 0,
       "model_id": "2d4f421adcb54f418ca9e00721d2c215"
      }
     },
     "metadata": {}
    },
    {
     "output_type": "execute_result",
     "data": {
      "text/plain": [
       "[(0.31454920664545444, 0.43454919977229384, 0.3295492035162106),\n",
       " (-0.01499999687075615, 0.10499999625608325, 0.0),\n",
       " (0.0, 0.0, 1.0)]"
      ]
     },
     "metadata": {},
     "execution_count": 6
    }
   ],
   "source": [
    "\n",
    "# initiating the plotter\n",
    "p = pv.Plotter(notebook=True) # ITK plotter for interactivity within the python notebook (itkwidgets library is required)\n",
    "\n",
    "# fast visualization of the point cloud\n",
    "sample_cloud.fast_vis(p)\n",
    "\n",
    "# fast visualization of the lattice\n",
    "lattice.fast_vis(p)\n",
    "\n",
    "# adding the base mesh: light blue\n",
    "pvmesh = pv.read(mesh_path)\n",
    "p.add_mesh(pvmesh, color='#abd8ff')\n",
    "\n",
    "# plotting\n",
    "p.show(use_ipyvtk=True)\n"
   ]
  },
  {
   "source": [
    "### 4. Saving to CSV"
   ],
   "cell_type": "markdown",
   "metadata": {}
  },
  {
   "cell_type": "code",
   "execution_count": 13,
   "metadata": {},
   "outputs": [],
   "source": [
    "lattice.to_csv(\"../data/bunny.csv\")"
   ]
  },
  {
   "source": [
    "### 5. Saving Multiple Frames to CSV"
   ],
   "cell_type": "markdown",
   "metadata": {}
  },
  {
   "cell_type": "code",
   "execution_count": 12,
   "metadata": {},
   "outputs": [],
   "source": [
    "for i in range(5):\n",
    "    points = mesh[0] + 0.05 * i\n",
    "    moved_mesh = (points, mesh[1])\n",
    "    sample_cloud = tg.geometry.mesh_sampling(moved_mesh, unit, multi_core_process=False, tol=tol)\n",
    "    lattice = sample_cloud.voxelate(unit, closed=True)\n",
    "    lattice.to_csv(\"../data/bunny\" + str(i) + \".csv\")"
   ]
  }
 ],
 "metadata": {
  "kernelspec": {
   "name": "Python 3.8.5 64-bit ('tgdev': conda)",
   "display_name": "Python 3.8.5 64-bit ('tgdev': conda)",
   "metadata": {
    "interpreter": {
     "hash": "232c0d2e1ace95119f0f50ab7b77ac3ba9f0cfd8ad5dddf0ba4b7966ca8956d0"
    }
   }
  },
  "language_info": {
   "codemirror_mode": {
    "name": "ipython",
    "version": 3
   },
   "file_extension": ".py",
   "mimetype": "text/x-python",
   "name": "python",
   "nbconvert_exporter": "python",
   "pygments_lexer": "ipython3",
   "version": "3.8.5-final"
  }
 },
 "nbformat": 4,
 "nbformat_minor": 2
}