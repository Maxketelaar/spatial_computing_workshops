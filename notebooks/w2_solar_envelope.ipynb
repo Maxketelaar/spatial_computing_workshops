{
 "cells": [
  {
   "cell_type": "markdown",
   "metadata": {},
   "source": [
    "# Solar Envelope\n",
    "\n",
    "In this workshop we will learn how to compute the solar envelop of the building based on a voxelized building envelope."
   ]
  },
  {
   "cell_type": "markdown",
   "metadata": {},
   "source": [
    "### 0. Initialization\n",
    "Importing all necessary libraries and specifying the inputs"
   ]
  },
  {
   "cell_type": "code",
   "execution_count": 28,
   "metadata": {},
   "outputs": [],
   "source": [
    "import os\n",
    "import topogenesis as tg\n",
    "import pyvista as pv\n",
    "import trimesh as tm\n",
    "import numpy as np\n",
    "from ladybug.sunpath import Sunpath"
   ]
  },
  {
   "cell_type": "code",
   "execution_count": null,
   "metadata": {},
   "outputs": [],
   "source": [
    "vs = 3\n",
    "unit = [vs, vs, vs]\n",
    "envelope_path = os.path.relpath('../data/optional_envelope.obj')\n",
    "context_path = os.path.relpath('../data/immediate_context.obj')"
   ]
  },
  {
   "cell_type": "code",
   "execution_count": null,
   "metadata": {},
   "outputs": [],
   "source": [
    "# load the mesh from file\n",
    "envelope_mesh = tm.load(envelope_path)\n",
    "context_mesh = tm.load(context_path)\n",
    "\n",
    "# Check if the mesh is watertight\n",
    "print(envelope_mesh.is_watertight)"
   ]
  },
  {
   "cell_type": "code",
   "execution_count": null,
   "metadata": {},
   "outputs": [],
   "source": [
    "# convert mesh to pv_mesh\n",
    "def tri_to_pv(tri_mesh):\n",
    "    faces = np.pad(tri_mesh.faces, ((0, 0),(1,0)), 'constant', constant_values=3)\n",
    "    pv_mesh = pv.PolyData(tri_mesh.vertices, faces)\n",
    "    return pv_mesh\n",
    "\n",
    "# Visualize the mesh using pyvista plotter\n",
    "#######\n",
    "\n",
    "# initiating the plotter\n",
    "p = pv.Plotter(notebook=True)\n",
    "\n",
    "# adding the meshes\n",
    "p.add_mesh(tri_to_pv(envelope_mesh), color='#abd8ff')\n",
    "p.add_mesh(tri_to_pv(context_mesh), color='#aaaaaa')\n",
    "\n",
    "# plotting\n",
    "p.show(use_ipyvtk=True)"
   ]
  },
  {
   "cell_type": "code",
   "execution_count": null,
   "metadata": {},
   "outputs": [],
   "source": [
    "# loading the lattice from csv\n",
    "lattice_path = os.path.relpath('../data/voxelized_envelope.csv')\n",
    "envelope_lattice = tg.lattice_from_csv(lattice_path)"
   ]
  },
  {
   "cell_type": "code",
   "execution_count": null,
   "metadata": {},
   "outputs": [],
   "source": [
    "# convert mesh to pv_mesh\n",
    "def tri_to_pv(tri_mesh):\n",
    "    faces = np.pad(tri_mesh.faces, ((0, 0),(1,0)), 'constant', constant_values=3)\n",
    "    pv_mesh = pv.PolyData(tri_mesh.vertices, faces)\n",
    "    return pv_mesh\n",
    "\n",
    "# Visualize the mesh using pyvista plotter\n",
    "#######\n",
    "\n",
    "# initiating the plotter\n",
    "p = pv.Plotter(notebook=True)\n",
    "\n",
    "# fast visualization of the lattice\n",
    "envelope_lattice.fast_vis(p)\n",
    "\n",
    "# adding the meshes\n",
    "p.add_mesh(tri_to_pv(context_mesh), color='#aaaaaa')\n",
    "\n",
    "# plotting\n",
    "p.show(use_ipyvtk=True)"
   ]
  },
  {
   "cell_type": "code",
   "execution_count": null,
   "metadata": {
    "tags": []
   },
   "outputs": [],
   "source": [
    "# initiate sunpath\n",
    "sp = Sunpath(longitude=4.3571, latitude=52.0116)\n",
    "\n",
    "# define sun hours : A list of hours of the year for each sun vector\n",
    "# there are 8760 hours in a year, so the following integers refer to specific hours throughout the year\n",
    "hoys = []\n",
    "sun_vectors = []\n",
    "day_multiples = 60\n",
    "for d in range(365):\n",
    "    if d%day_multiples==0:\n",
    "        for h in range(24):\n",
    "            i = d*24 + h\n",
    "            # compute the sun object\n",
    "            sun = sp.calculate_sun_from_hoy(i)\n",
    "            # extract the sun vector\n",
    "            sun_vector = sun.sun_vector.to_array()\n",
    "            # apparantly, if the Z component of sun vector is positive, \n",
    "            # it is under the horizon \n",
    "            if sun_vector[2] < 0.0:\n",
    "                hoys.append(i)\n",
    "                sun_vectors.append(sun_vector)\n",
    "\n",
    "print(np.array(sun_vectors).shape)"
   ]
  },
  {
   "cell_type": "code",
   "execution_count": null,
   "metadata": {},
   "outputs": [],
   "source": [
    "# constructing the sun direction from the sun vectors in a numpy array\n",
    "sun_dirs = -np.array(sun_vectors)\n",
    "# exract the centroids of the envelope voxels\n",
    "vox_cens = envelope_lattice.centroids\n",
    "# next step we need to shoot in all of the sun directions from all of the voxels, todo so, we need repeat the sun direction for the number of voxels to construct the ray_dir (which is the list of all ray directions). We need to repeat the voxels for the \n",
    "ray_dir = []\n",
    "ray_src = []\n",
    "for v_cen in vox_cens:\n",
    "    for s_dir in sun_dirs:\n",
    "        ray_dir.append(s_dir)\n",
    "        ray_src.append(v_cen)\n",
    "# converting the list of directions and sources to numpy array\n",
    "ray_dir = np.array(ray_dir)\n",
    "ray_src = np.array(ray_src)\n",
    "\"\"\"\n",
    "# Further info: this is the vectorised version of nested for loops\n",
    "ray_dir = np.tile(sun_dirs, [len(vox_cens),1])\n",
    "ray_src = np.tile(vox_cens, [1, len(sun_dirs)]).reshape(-1, 3)\n",
    "\"\"\"\n",
    "print(\"number of voxels to shoot rays from :\",vox_cens.shape)\n",
    "print(\"number of rays per each voxel :\",sun_dirs.shape)\n",
    "print(\"number of rays to be shooted :\",ray_src.shape)"
   ]
  },
  {
   "cell_type": "code",
   "execution_count": null,
   "metadata": {},
   "outputs": [],
   "source": [
    "# computing the intersections of rays with the context mesh\n",
    "tri_id, ray_id = context_mesh.ray.intersects_id(ray_origins=ray_src, ray_directions=ray_dir, multiple_hits=False)"
   ]
  },
  {
   "cell_type": "code",
   "execution_count": 40,
   "metadata": {
    "tags": []
   },
   "outputs": [
    {
     "output_type": "stream",
     "name": "stdout",
     "text": [
      "[0.95   0.8875 0.875  ... 0.7625 0.7375 0.7   ]\n"
     ]
    }
   ],
   "source": [
    "# computing what percentage of the time through out the year, each voxel sees the sun\n",
    "\n",
    "# initializing the hits list full of zeros\n",
    "hits = [0]*len(ray_dir)\n",
    "# setting the rays that had an intersection to 1\n",
    "for id in ray_id:\n",
    "    hits[id] = 1\n",
    "\n",
    "sun_count = len(sun_dirs)\n",
    "vox_count = len(vox_cens)\n",
    "# initiating the list of ratio\n",
    "vox_sun_acc = []\n",
    "# iterate over the voxels\n",
    "for v_id in range(vox_count):\n",
    "    # counter for the intersection\n",
    "    int_count = 0\n",
    "    # iterate over the sun rays\n",
    "    for s_id in range(sun_count):\n",
    "        # computing the ray id from voxel id and sun id\n",
    "        r_id = v_id * sun_count + s_id\n",
    "\n",
    "        # summing the intersections\n",
    "        int_count += hits[r_id]\n",
    "    \n",
    "    # computing the percentage of the rays that DID NOT have \n",
    "    # an intersection (aka could see the sun)\n",
    "    sun_access = 1.0 - int_count/sun_count\n",
    "\n",
    "    # add the ratio to list\n",
    "    vox_sun_acc.append(sun_access)\n",
    "\n",
    "\n",
    "hits = np.array(hits)\n",
    "vox_sun_acc = np.array(vox_sun_acc)\n",
    "\"\"\"\n",
    "# Further info: this is the vectorised version of nested for loops\n",
    "hits = np.full((len(ray_dir)), 0)\n",
    "hits[ray_id] = 1\n",
    "hits = hits.reshape(len(vox_src), -1)\n",
    "voxel_hits = np.sum(hits, axis=1)\n",
    "vox_sun_acc = 1.0 - voxel_hits / len(sun_dirs)\n",
    "\"\"\"\n",
    "print(vox_sun_acc)"
   ]
  },
  {
   "cell_type": "code",
   "execution_count": 55,
   "metadata": {},
   "outputs": [
    {
     "output_type": "stream",
     "name": "stdout",
     "text": [
      "1164.0749999999998\n"
     ]
    }
   ],
   "source": [
    "# Writing the sun access information into a lattice\n",
    "\n",
    "\n",
    "\"\"\"\n",
    "# Further info: this is the vectorised version of nested for loops\n",
    "env_all_vox_id = envelope_lattice.indices.flatten()\n",
    "env_all_vox = envelope_lattice.flatten()\n",
    "env_in_vox_id = env_all_vox_id[env_all_vox]\n",
    "sunacc_array = np.full(env_all_vox.shape, 0.0)\n",
    "sunacc_array[env_in_vox_id] = vox_sun_acc\n",
    "sunacc_array = sunacc_array.reshape(envelope_lattice.shape)\n",
    "sunacc_lattice = tg.to_lattice(sunacc_array, envelope_lattice.minbound)\n",
    "\"\"\"\n",
    "print(sunacc_lattice.shape)"
   ]
  },
  {
   "source": [
    "### Credits"
   ],
   "cell_type": "markdown",
   "metadata": {}
  },
  {
   "cell_type": "code",
   "execution_count": null,
   "metadata": {},
   "outputs": [],
   "source": [
    "__author__ = \"Shervin Azadi and Pirouz Nourian\"\n",
    "__license__ = \"MIT\"\n",
    "__version__ = \"1.0\"\n",
    "__url__ = \"https://github.com/shervinazadi/spatial_computing_workshops\"\n",
    "__summary__ = \"Spatial Computing Design Studio Workshop on Solar Envelope\""
   ]
  }
 ],
 "metadata": {
  "kernelspec": {
   "name": "python3",
   "display_name": "Python 3.8.5 64-bit ('spatial_computing_workshops': conda)",
   "metadata": {
    "interpreter": {
     "hash": "86351aa7da08b29f27f16145ecccaca445a290a06f6e0c95caae496bc1415472"
    }
   }
  },
  "language_info": {
   "codemirror_mode": {
    "name": "ipython",
    "version": 3
   },
   "file_extension": ".py",
   "mimetype": "text/x-python",
   "name": "python",
   "nbconvert_exporter": "python",
   "pygments_lexer": "ipython3",
   "version": "3.8.5-final"
  }
 },
 "nbformat": 4,
 "nbformat_minor": 2
}