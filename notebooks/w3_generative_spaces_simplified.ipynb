{
 "metadata": {
  "language_info": {
   "codemirror_mode": {
    "name": "ipython",
    "version": 3
   },
   "file_extension": ".py",
   "mimetype": "text/x-python",
   "name": "python",
   "nbconvert_exporter": "python",
   "pygments_lexer": "ipython3",
   "version": "3.8.5-final"
  },
  "orig_nbformat": 2,
  "kernelspec": {
   "name": "python3",
   "display_name": "Python 3.8.5 64-bit ('spatial_computing_workshops': conda)",
   "metadata": {
    "interpreter": {
     "hash": "86351aa7da08b29f27f16145ecccaca445a290a06f6e0c95caae496bc1415472"
    }
   }
  }
 },
 "nbformat": 4,
 "nbformat_minor": 2,
 "cells": [
  {
   "source": [
    "# Generative Spaces (ABM)\n",
    "\n",
    "In this workshop we will lwarn how to construct a ABM (Agent Based Model) with spatial behaviours, that is capable of configuring the space."
   ],
   "cell_type": "markdown",
   "metadata": {}
  },
  {
   "source": [
    "## 0. Initialization\n",
    "\n",
    "### 0.1. Load required libraries"
   ],
   "cell_type": "markdown",
   "metadata": {}
  },
  {
   "cell_type": "code",
   "execution_count": null,
   "metadata": {},
   "outputs": [],
   "source": [
    "import os\n",
    "import topogenesis as tg\n",
    "import pyvista as pv\n",
    "import trimesh as tm\n",
    "import numpy as np\n",
    "np.random.seed(0)"
   ]
  },
  {
   "source": [
    "### 0.2. Define the Neighborhood (Stencil)"
   ],
   "cell_type": "markdown",
   "metadata": {}
  },
  {
   "cell_type": "code",
   "execution_count": null,
   "metadata": {},
   "outputs": [],
   "source": [
    "# creating neighborhood definition\n",
    "stencil = tg.create_stencil(\"von_neumann\", 1, 1)\n",
    "# setting the center to zero\n",
    "stencil.set_index([0,0,0], 0)\n",
    "print(stencil)"
   ]
  },
  {
   "source": [
    "### 0.3 Visualize the Stencil"
   ],
   "cell_type": "markdown",
   "metadata": {}
  },
  {
   "cell_type": "code",
   "execution_count": null,
   "metadata": {},
   "outputs": [],
   "source": [
    "# initiating the plotter\n",
    "p = pv.Plotter(notebook=True)\n",
    "\n",
    "# Create the spatial reference\n",
    "grid = pv.UniformGrid()\n",
    "\n",
    "# Set the grid dimensions: shape because we want to inject our values\n",
    "grid.dimensions = np.array(stencil.shape) + 1\n",
    "# The bottom left corner of the data set\n",
    "grid.origin = [0,0,0]\n",
    "# These are the cell sizes along each axis\n",
    "grid.spacing = [1,1,1]\n",
    "\n",
    "# Add the data values to the cell data\n",
    "grid.cell_arrays[\"values\"] = stencil.flatten(order=\"F\")  # Flatten the stencil\n",
    "threshed = grid.threshold([0.9, 1.1])\n",
    "\n",
    "# adding the voxels: light red\n",
    "p.add_mesh(threshed, show_edges=True, color=\"#ff8fa3\", opacity=0.3)\n",
    "\n",
    "# plotting\n",
    "p.show(use_ipyvtk=True)"
   ]
  },
  {
   "source": [
    "## 1. Setup the Environment\n",
    "\n",
    "### 1.1. Load the envelope lattice as the avialbility lattice"
   ],
   "cell_type": "markdown",
   "metadata": {}
  },
  {
   "cell_type": "code",
   "execution_count": null,
   "metadata": {},
   "outputs": [],
   "source": [
    "# loading the lattice from csv\n",
    "lattice_path = os.path.relpath('../data/voxelized_envelope.csv')\n",
    "avail_lattice = tg.lattice_from_csv(lattice_path)"
   ]
  },
  {
   "source": [
    "### 1.2. Load the Sun Access lattice as the value field"
   ],
   "cell_type": "markdown",
   "metadata": {}
  },
  {
   "cell_type": "code",
   "execution_count": null,
   "metadata": {},
   "outputs": [],
   "source": [
    "# loading the lattice from csv\n",
    "lattice_path = os.path.relpath('../data/sun_access.csv')\n",
    "sun_acc_lattice = tg.lattice_from_csv(lattice_path)"
   ]
  },
  {
   "source": [
    "### 1.3. Initialize the Agents"
   ],
   "cell_type": "markdown",
   "metadata": {}
  },
  {
   "cell_type": "code",
   "execution_count": null,
   "metadata": {},
   "outputs": [],
   "source": [
    "# Finding the index of the available voxels in avail_lattice\n",
    "avail_flat = avail_lattice.flatten()\n",
    "# avail_flat_index = np.where(avail_flat == 1)[0]\n",
    "avail_index = np.array(np.where(avail_lattice == 1)).T\n",
    "\n",
    "# Randomly choosing five available voxels\n",
    "agn_num = 5\n",
    "# select_id = np.random.choice(avail_flat_index, agn_num)\n",
    "select_id = np.random.choice(len(avail_index), agn_num)\n",
    "agn_origins = avail_index[select_id]\n",
    "\n",
    "# adding the origins to the agents locations\n",
    "agn_locs = []\n",
    "for a_origin in agn_origins:\n",
    "    agn_locs.append([a_origin])\n",
    "\n",
    "# # creating the agent ids lis\n",
    "# agn_ids = list(range(1,agn_num+1))"
   ]
  },
  {
   "source": [
    "## 2. ABM Simulation (Agent Based Space Occupation)"
   ],
   "cell_type": "markdown",
   "metadata": {}
  },
  {
   "cell_type": "code",
   "execution_count": null,
   "metadata": {},
   "outputs": [],
   "source": [
    "t = 0\n",
    "# main feedback loop of the simulation (for each time step ...)\n",
    "while t<3:\n",
    "    # for each agent ... \n",
    "    for a_id in range(agn_num):\n",
    "        # retrieve the list of the locations of the current agent\n",
    "        a_locs = agn_locs[a_id]\n",
    "        # initialize the list of free neighbours\n",
    "        free_neighs = []\n",
    "        # for each location of the agent\n",
    "        for loc in a_locs:\n",
    "            # retrieve the list of neighbours of the agent based on the stencil\n",
    "            neighs = avail_lattice.find_neighbours_masked(stencil, loc = loc)\n",
    "            \n",
    "            # for each neighbour ... \n",
    "            for n in neighs:\n",
    "                # if the neighbour is available... \n",
    "                if avail_flat[n]:\n",
    "                    # add the neighbour to the list of free neighbours\n",
    "                    free_neighs.append(n)\n",
    "\n",
    "        # check if found any free neighbour\n",
    "        if len(free_neighs)>0:            \n",
    "            # convert free neighbours to a numpy array\n",
    "            free_neighs = np.array(free_neighs)\n",
    "            # randomly select one of the available neighbours\n",
    "            selected_neigh_id = np.random.choice(free_neighs, 1)\n",
    "            # find the location of the newly selected neighbour\n",
    "            selected_neigh_loc = np.array(np.unravel_index(selected_neigh_id, avail_lattice.shape)).flatten()\n",
    "            # add the newly selected neighbour location to agent locations\n",
    "            agn_locs[a_id].append(selected_neigh_loc)\n",
    "            # set the newly selected neighbour as UNavailable (0) in the availability lattice\n",
    "            avail_flat[selected_neigh_id] = 0\n",
    "    \n",
    "    t += 1"
   ]
  },
  {
   "source": [
    "## 1. Agents\n",
    "\n",
    "### 1.1. Define the Agents Class"
   ],
   "cell_type": "markdown",
   "metadata": {}
  },
  {
   "cell_type": "code",
   "execution_count": null,
   "metadata": {},
   "outputs": [],
   "source": [
    "# agent class\n",
    "class agent():\n",
    "    def __init__(self, origin, stencil, id):\n",
    "\n",
    "        # define the origin attribute of the agent and making sure that it is an intiger\n",
    "        self.origin = np.array(origin).astype(int)\n",
    "        # define old origin attribute and assigning the origin to it as the initial state\n",
    "        self.old_origin = self.origin\n",
    "        # define stencil of the agent\n",
    "        self.stencil = stencil\n",
    "        #define agent id\n",
    "        self.id = id\n",
    "\n",
    "    # definition of walking method for agents\n",
    "    def walk(self, env):\n",
    "        # find available spaces\n",
    "        #######################\n",
    "\n",
    "        # retrieve the list of neighbours of the agent based on the stencil\n",
    "        neighs = env.availibility.find_neighbours_masked(self.stencil, loc = self.origin)\n",
    "        # find availability of neighbours\n",
    "        neighs_availibility = env.availibility.flatten()[neighs]\n",
    "        # separate available neighbours\n",
    "        free_neighs = neighs[neighs_availibility==1]\n",
    "        # retrieve the value of each neighbour\n",
    "        free_neighs_value = env.value.flatten()[free_neighs]\n",
    "        # find the neighbour with maximum my value\n",
    "        selected_neigh = free_neighs[np.argmax(free_neighs_value)]\n",
    "        \n",
    "        # update information\n",
    "        ####################\n",
    "\n",
    "        # set the current origin as the ol origin\n",
    "        self.old_origin = self.origin\n",
    "        # update the current origin with the new selected neighbour\n",
    "        self.origin = np.array(np.unravel_index(selected_neigh, env.availibility.shape)).flatten()"
   ]
  },
  {
   "source": [
    "### 1.2. Initialize and scatter agents randomly"
   ],
   "cell_type": "markdown",
   "metadata": {}
  },
  {
   "cell_type": "code",
   "execution_count": null,
   "metadata": {},
   "outputs": [],
   "source": [
    "# randomly scattering the agents\n",
    "# TODO: only choose from available voxels\n",
    "selected_cells = np.random.choice(avail_lattice.size, 5)\n",
    "agent_ind = np.array(np.unravel_index(selected_cells, avail_lattice.shape))\n",
    "\n",
    "agents= []\n",
    "# creating agent objects\n",
    "for id, ind in enumerate(agent_ind.T.tolist()):\n",
    "    myagent = agent(ind, stencil, id+1)\n",
    "    agents.append(myagent)"
   ]
  },
  {
   "source": [
    "### 2.3. Define Environment Class"
   ],
   "cell_type": "markdown",
   "metadata": {}
  },
  {
   "cell_type": "code",
   "execution_count": null,
   "metadata": {},
   "outputs": [],
   "source": [
    "# environment class\n",
    "class environment():\n",
    "    def __init__(self, lattices, agents):\n",
    "        self.availibility = lattices[\"availibility\"]\n",
    "        self.value = lattices[\"sun_access\"]\n",
    "        self.agent_origin = self.availibility * 0\n",
    "        self.agents = agents\n",
    "        self.update_agents()\n",
    "    \n",
    "    def update_agents(self):\n",
    "        for a in self.agents:\n",
    "            # making previous position available\n",
    "            self.availibility[tuple(a.old_origin)] = self.availibility[tuple(a.old_origin)] * 0 + 1\n",
    "            # removing agent from previous position\n",
    "            self.agent_origin[tuple(a.old_origin)] *= 0\n",
    "            # making the current position unavailable\n",
    "            self.availibility[tuple(a.origin)] *= 0\n",
    "            # adding agent to the new position \n",
    "            self.agent_origin[tuple(a.origin)] = a.id\n",
    "    \n",
    "    def walk_agents(self):\n",
    "        # iterate over egents and perform the walk\n",
    "        for a in self.agents:\n",
    "            a.walk(self)\n",
    "        # update the agent states in environment\n",
    "        self.update_agents()"
   ]
  },
  {
   "source": [
    "### 2.4. Create the environment"
   ],
   "cell_type": "markdown",
   "metadata": {}
  },
  {
   "cell_type": "code",
   "execution_count": null,
   "metadata": {},
   "outputs": [],
   "source": [
    "# name the lattices\n",
    "env_lattices = {\"availibility\": avail_lattice,\n",
    "                \"sun_access\": sun_acc_lattice}\n",
    "# initiate the environment\n",
    "env = environment(env_lattices, agents)\n",
    "\n"
   ]
  },
  {
   "source": [
    "## 3. Run the Simulation"
   ],
   "cell_type": "markdown",
   "metadata": {}
  },
  {
   "cell_type": "code",
   "execution_count": null,
   "metadata": {},
   "outputs": [],
   "source": [
    "for i in range(10):\n",
    "    # print(env.availibility)\n",
    "    # print(env.agent_origin)\n",
    "    agn_org = [a.origin for a in env.agents]\n",
    "    print(agn_org)\n",
    "    env.walk_agents()"
   ]
  },
  {
   "source": [
    "### Credits"
   ],
   "cell_type": "markdown",
   "metadata": {}
  },
  {
   "cell_type": "code",
   "execution_count": null,
   "metadata": {},
   "outputs": [],
   "source": [
    "__author__ = \"Shervin Azadi \"\n",
    "__license__ = \"MIT\"\n",
    "__version__ = \"1.0\"\n",
    "__url__ = \"https://github.com/shervinazadi/spatial_computing_workshops\"\n",
    "__summary__ = \"Spatial Computing Design Studio Workshop on Agent Based Models for Generative Spaces\""
   ]
  }
 ]
}